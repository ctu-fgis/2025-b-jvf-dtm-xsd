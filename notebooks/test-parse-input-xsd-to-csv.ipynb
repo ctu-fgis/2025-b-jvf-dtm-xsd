{
 "cells": [
  {
   "cell_type": "markdown",
   "id": "776380a8-25f5-4ba1-8744-cb2a393081ae",
   "metadata": {},
   "source": [
    "# XSD to CSV Conversion Testing"
   ]
  },
  {
   "cell_type": "code",
   "execution_count": 15,
   "outputs": [
    {
     "name": "stdout",
     "output_type": "stream",
     "text": [
      "Requirement already satisfied: xmlschema in c:\\osgeo4w\\apps\\python312\\lib\\site-packages (4.0.1)\n",
      "Requirement already satisfied: elementpath<6.0.0,>=4.8.0 in c:\\osgeo4w\\apps\\python312\\lib\\site-packages (from xmlschema) (5.0.1)\n"
     ]
    },
    {
     "name": "stderr",
     "output_type": "stream",
     "text": [
      "\n",
      "[notice] A new release of pip is available: 25.0 -> 25.1.1\n",
      "[notice] To update, run: python3.exe -m pip install --upgrade pip\n"
     ]
    }
   ],
   "source": [
    "!pip install xmlschema"
   ],
   "metadata": {
    "collapsed": false,
    "ExecuteTime": {
     "end_time": "2025-05-13T16:26:40.465933300Z",
     "start_time": "2025-05-13T16:26:32.793764500Z"
    }
   },
   "id": "8df524fe92ea8e00"
  },
  {
   "cell_type": "code",
   "execution_count": 2,
   "id": "a9e56d19-9ef9-451a-820d-1dfe3b202115",
   "metadata": {
    "ExecuteTime": {
     "end_time": "2025-05-13T18:12:15.398195Z",
     "start_time": "2025-05-13T18:12:15.392641700Z"
    }
   },
   "outputs": [],
   "source": [
    "import os\n",
    "import zipfile\n",
    "import xmlschema\n",
    "from lxml import etree\n",
    "import pandas as pd"
   ]
  },
  {
   "cell_type": "code",
   "execution_count": 3,
   "id": "e7b470be-ec37-4aa4-80ab-338e63d70f7b",
   "metadata": {
    "ExecuteTime": {
     "end_time": "2025-05-13T18:12:17.279715900Z",
     "start_time": "2025-05-13T18:12:17.253625900Z"
    }
   },
   "outputs": [],
   "source": [
    "# Define the path to the zip file\n",
    "input_file_path = r'..\\tests\\data\\JVF_DTM_143_XSD.zip'\n",
    "output_file_path = r'..\\tests\\output\\JVF_DTM_143_XSD'"
   ]
  },
  {
   "cell_type": "code",
   "execution_count": 4,
   "id": "e356362a-3dd3-4b01-8391-51fb2e5486dd",
   "metadata": {
    "ExecuteTime": {
     "end_time": "2025-05-13T18:12:18.621299400Z",
     "start_time": "2025-05-13T18:12:18.310095600Z"
    }
   },
   "outputs": [
    {
     "name": "stdout",
     "output_type": "stream",
     "text": [
      "['str2.csv', 'xsd']\n",
      "..\\tests\\output\\JVF_DTM_143_XSD\n"
     ]
    }
   ],
   "source": [
    "# Create the extraction directory if it does not exist\n",
    "if not os.path.exists(output_file_path):\n",
    "    os.makedirs(output_file_path)\n",
    "\n",
    "# Extract the zip file\n",
    "with zipfile.ZipFile(input_file_path, 'r') as zip_ref:\n",
    "    zip_ref.extractall(output_file_path)\n",
    "\n",
    "# List the extracted files\n",
    "extracted_files = os.listdir(output_file_path)\n",
    "print(extracted_files)\n",
    "print(output_file_path)"
   ]
  },
  {
   "cell_type": "code",
   "execution_count": 5,
   "id": "22757a34-5866-4dea-9a67-8b24691b9bd8",
   "metadata": {
    "ExecuteTime": {
     "end_time": "2025-05-13T18:12:24.118995100Z",
     "start_time": "2025-05-13T18:12:21.771670500Z"
    }
   },
   "outputs": [],
   "source": [
    "# Set the path to the folder with extracted XSD files\n",
    "xsd_dir = os.path.join(output_file_path, 'xsd')\n",
    "\n",
    "def load_xsd_files(directory):\n",
    "    \"\"\"\n",
    "    Load all XSD files from the given directory and parse them into XML trees.\n",
    "\n",
    "    Args:\n",
    "        directory (str): Path to the folder with XSD files.\n",
    "\n",
    "    Returns:\n",
    "        list: List of tuples (file_name, parsed_xsd_tree).\n",
    "    \"\"\"\n",
    "    xsd_files = []\n",
    "    \n",
    "    # Walk through the directory and find all files\n",
    "    for root, dirs, files in os.walk(directory):\n",
    "        for file in files:\n",
    "            # Only process .xsd files\n",
    "            if file.endswith('.xsd'):\n",
    "                file_path = os.path.join(root, file)\n",
    "                \n",
    "                # Read the file content\n",
    "                with open(file_path, 'rb') as f:\n",
    "                    xsd_content = f.read()\n",
    "                \n",
    "                # Parse content as XML\n",
    "                xsd_tree = etree.XML(xsd_content)\n",
    "                \n",
    "                # Save filename and parsed tree\n",
    "                xsd_files.append((file, xsd_tree))\n",
    "    \n",
    "    return xsd_files\n",
    "\n",
    "# Load and parse the XSD files\n",
    "xsd_files = load_xsd_files(xsd_dir)"
   ]
  },
  {
   "cell_type": "code",
   "execution_count": 6,
   "id": "713f0d5d-c7c5-44d9-9863-cb3d8f0f0d27",
   "metadata": {
    "ExecuteTime": {
     "end_time": "2025-05-13T18:12:35.414277900Z",
     "start_time": "2025-05-13T18:12:35.385417Z"
    }
   },
   "outputs": [
    {
     "data": {
      "text/plain": "                         File Name                                  Root Tag  \\\n0                     atributy.xsd  {http://www.w3.org/2001/XMLSchema}schema   \n1                       common.xsd  {http://www.w3.org/2001/XMLSchema}schema   \n2         doprovodne_informace.xsd  {http://www.w3.org/2001/XMLSchema}schema   \n3                      extenze.xsd  {http://www.w3.org/2001/XMLSchema}schema   \n4                       servis.xsd  {http://www.w3.org/2001/XMLSchema}schema   \n..                             ...                                       ...   \n442                  zed-linie.xsd  {http://www.w3.org/2001/XMLSchema}schema   \n443                 zed-plocha.xsd  {http://www.w3.org/2001/XMLSchema}schema   \n444  zeleznicni_prejezd-plocha.xsd  {http://www.w3.org/2001/XMLSchema}schema   \n445   zemedelska_plocha-defbod.xsd  {http://www.w3.org/2001/XMLSchema}schema   \n446   zemedelska_plocha-plocha.xsd  {http://www.w3.org/2001/XMLSchema}schema   \n\n     Number of Elements  \n0                   185  \n1                     4  \n2                    29  \n3                     1  \n4                     1  \n..                  ...  \n442                   5  \n443                   5  \n444                   5  \n445                   5  \n446                   5  \n\n[447 rows x 3 columns]",
      "text/html": "<div>\n<style scoped>\n    .dataframe tbody tr th:only-of-type {\n        vertical-align: middle;\n    }\n\n    .dataframe tbody tr th {\n        vertical-align: top;\n    }\n\n    .dataframe thead th {\n        text-align: right;\n    }\n</style>\n<table border=\"1\" class=\"dataframe\">\n  <thead>\n    <tr style=\"text-align: right;\">\n      <th></th>\n      <th>File Name</th>\n      <th>Root Tag</th>\n      <th>Number of Elements</th>\n    </tr>\n  </thead>\n  <tbody>\n    <tr>\n      <th>0</th>\n      <td>atributy.xsd</td>\n      <td>{http://www.w3.org/2001/XMLSchema}schema</td>\n      <td>185</td>\n    </tr>\n    <tr>\n      <th>1</th>\n      <td>common.xsd</td>\n      <td>{http://www.w3.org/2001/XMLSchema}schema</td>\n      <td>4</td>\n    </tr>\n    <tr>\n      <th>2</th>\n      <td>doprovodne_informace.xsd</td>\n      <td>{http://www.w3.org/2001/XMLSchema}schema</td>\n      <td>29</td>\n    </tr>\n    <tr>\n      <th>3</th>\n      <td>extenze.xsd</td>\n      <td>{http://www.w3.org/2001/XMLSchema}schema</td>\n      <td>1</td>\n    </tr>\n    <tr>\n      <th>4</th>\n      <td>servis.xsd</td>\n      <td>{http://www.w3.org/2001/XMLSchema}schema</td>\n      <td>1</td>\n    </tr>\n    <tr>\n      <th>...</th>\n      <td>...</td>\n      <td>...</td>\n      <td>...</td>\n    </tr>\n    <tr>\n      <th>442</th>\n      <td>zed-linie.xsd</td>\n      <td>{http://www.w3.org/2001/XMLSchema}schema</td>\n      <td>5</td>\n    </tr>\n    <tr>\n      <th>443</th>\n      <td>zed-plocha.xsd</td>\n      <td>{http://www.w3.org/2001/XMLSchema}schema</td>\n      <td>5</td>\n    </tr>\n    <tr>\n      <th>444</th>\n      <td>zeleznicni_prejezd-plocha.xsd</td>\n      <td>{http://www.w3.org/2001/XMLSchema}schema</td>\n      <td>5</td>\n    </tr>\n    <tr>\n      <th>445</th>\n      <td>zemedelska_plocha-defbod.xsd</td>\n      <td>{http://www.w3.org/2001/XMLSchema}schema</td>\n      <td>5</td>\n    </tr>\n    <tr>\n      <th>446</th>\n      <td>zemedelska_plocha-plocha.xsd</td>\n      <td>{http://www.w3.org/2001/XMLSchema}schema</td>\n      <td>5</td>\n    </tr>\n  </tbody>\n</table>\n<p>447 rows × 3 columns</p>\n</div>"
     },
     "execution_count": 6,
     "metadata": {},
     "output_type": "execute_result"
    }
   ],
   "source": [
    "# Initialize empty lists for storing data\n",
    "data = []\n",
    "\n",
    "# Loop through the loaded XSD files\n",
    "for file_name, xsd_tree in xsd_files:\n",
    "    # Get the root tag\n",
    "    root_tag = xsd_tree.tag\n",
    "    \n",
    "    # Count the number of elements in the root\n",
    "    num_elements = len(xsd_tree)\n",
    "    \n",
    "    # Add the data to the list\n",
    "    data.append({\n",
    "        \"File Name\": file_name,\n",
    "        \"Root Tag\": root_tag,\n",
    "        \"Number of Elements\": num_elements\n",
    "    })\n",
    "    \n",
    "# Create a pandas DataFrame from the list\n",
    "df = pd.DataFrame(data)\n",
    "\n",
    "# Show the DataFrame\n",
    "df"
   ]
  },
  {
   "cell_type": "code",
   "execution_count": 35,
   "id": "af9ed760-a73f-4a7e-8390-845a8bf13332",
   "metadata": {
    "ExecuteTime": {
     "end_time": "2025-05-13T19:59:30.296656Z",
     "start_time": "2025-05-13T19:59:30.108673900Z"
    }
   },
   "outputs": [
    {
     "data": {
      "text/plain": "                           filename                               nazev  \\\n0     BP_plynovodni_site-plocha.xsd    atr:SpolecneAtributyVsechObjektu   \n1     BP_plynovodni_site-plocha.xsd  atr:SpolecneAtributyObjektuPasemTI   \n2     BP_plynovodni_site-plocha.xsd                 atr:OblastObjektuKI   \n3     BP_plynovodni_site-plocha.xsd    atr:SpolecneAtributyVsechObjektu   \n4     BP_plynovodni_site-plocha.xsd  atr:SpolecneAtributyObjektuPasemTI   \n...                             ...                                 ...   \n4661   zemedelska_plocha-plocha.xsd      atr:SpolecneAtributyObjektuZPS   \n4662   zemedelska_plocha-plocha.xsd             atr:TypZemedelskePlochy   \n4663   zemedelska_plocha-plocha.xsd    atr:SpolecneAtributyVsechObjektu   \n4664   zemedelska_plocha-plocha.xsd      atr:SpolecneAtributyObjektuZPS   \n4665   zemedelska_plocha-plocha.xsd             atr:TypZemedelskePlochy   \n\n     minOccurs  \n0         None  \n1         None  \n2            0  \n3         None  \n4         None  \n...        ...  \n4661      None  \n4662      None  \n4663      None  \n4664      None  \n4665      None  \n\n[4666 rows x 3 columns]",
      "text/html": "<div>\n<style scoped>\n    .dataframe tbody tr th:only-of-type {\n        vertical-align: middle;\n    }\n\n    .dataframe tbody tr th {\n        vertical-align: top;\n    }\n\n    .dataframe thead th {\n        text-align: right;\n    }\n</style>\n<table border=\"1\" class=\"dataframe\">\n  <thead>\n    <tr style=\"text-align: right;\">\n      <th></th>\n      <th>filename</th>\n      <th>nazev</th>\n      <th>minOccurs</th>\n    </tr>\n  </thead>\n  <tbody>\n    <tr>\n      <th>0</th>\n      <td>BP_plynovodni_site-plocha.xsd</td>\n      <td>atr:SpolecneAtributyVsechObjektu</td>\n      <td>None</td>\n    </tr>\n    <tr>\n      <th>1</th>\n      <td>BP_plynovodni_site-plocha.xsd</td>\n      <td>atr:SpolecneAtributyObjektuPasemTI</td>\n      <td>None</td>\n    </tr>\n    <tr>\n      <th>2</th>\n      <td>BP_plynovodni_site-plocha.xsd</td>\n      <td>atr:OblastObjektuKI</td>\n      <td>0</td>\n    </tr>\n    <tr>\n      <th>3</th>\n      <td>BP_plynovodni_site-plocha.xsd</td>\n      <td>atr:SpolecneAtributyVsechObjektu</td>\n      <td>None</td>\n    </tr>\n    <tr>\n      <th>4</th>\n      <td>BP_plynovodni_site-plocha.xsd</td>\n      <td>atr:SpolecneAtributyObjektuPasemTI</td>\n      <td>None</td>\n    </tr>\n    <tr>\n      <th>...</th>\n      <td>...</td>\n      <td>...</td>\n      <td>...</td>\n    </tr>\n    <tr>\n      <th>4661</th>\n      <td>zemedelska_plocha-plocha.xsd</td>\n      <td>atr:SpolecneAtributyObjektuZPS</td>\n      <td>None</td>\n    </tr>\n    <tr>\n      <th>4662</th>\n      <td>zemedelska_plocha-plocha.xsd</td>\n      <td>atr:TypZemedelskePlochy</td>\n      <td>None</td>\n    </tr>\n    <tr>\n      <th>4663</th>\n      <td>zemedelska_plocha-plocha.xsd</td>\n      <td>atr:SpolecneAtributyVsechObjektu</td>\n      <td>None</td>\n    </tr>\n    <tr>\n      <th>4664</th>\n      <td>zemedelska_plocha-plocha.xsd</td>\n      <td>atr:SpolecneAtributyObjektuZPS</td>\n      <td>None</td>\n    </tr>\n    <tr>\n      <th>4665</th>\n      <td>zemedelska_plocha-plocha.xsd</td>\n      <td>atr:TypZemedelskePlochy</td>\n      <td>None</td>\n    </tr>\n  </tbody>\n</table>\n<p>4666 rows × 3 columns</p>\n</div>"
     },
     "execution_count": 35,
     "metadata": {},
     "output_type": "execute_result"
    }
   ],
   "source": [
    "# Path to the folder with extracted .xsd files\n",
    "xsd_objekty_path = os.path.join(output_file_path, 'xsd', 'objekty')\n",
    "\n",
    "# Initialize an empty list for the result records\n",
    "records = []\n",
    "\n",
    "# Iterate over all .xsd files in the folder\n",
    "for filename in os.listdir(xsd_objekty_path):\n",
    "    if filename.endswith(\".xsd\"):\n",
    "        full_path = os.path.join(xsd_objekty_path, filename)\n",
    "        try:\n",
    "            tree = etree.parse(full_path)\n",
    "            root = tree.getroot()\n",
    "\n",
    "            # Find all complexType definitions\n",
    "            complex_types = root.xpath(\".//*[local-name()='complexType']\")\n",
    "            for ct in complex_types:\n",
    "                geometries = []  # collect gml: geometry types\n",
    "                for el in ct.xpath(\".//*[local-name()='element']\"):\n",
    "                    name = el.get(\"name\")\n",
    "                    ref = el.get(\"ref\")\n",
    "                    typ = el.get(\"type\")\n",
    "                    min_occurs = el.get(\"minOccurs\")\n",
    "\n",
    "                    # Add referenced atr: attributes\n",
    "                    if ref and ref.startswith(\"atr:\"):\n",
    "                        records.append({\n",
    "                            \"filename\": filename,\n",
    "                            \"nazev\": ref,\n",
    "                            \"minOccurs\": min_occurs\n",
    "                        })\n",
    "                    # Collect gml: types as geometry definitions\n",
    "                    elif typ and typ.startswith(\"gml:\"):\n",
    "                        geometries.append(typ)\n",
    "\n",
    "                # If any gml: geometries were found, write them as a combined record\n",
    "                if geometries:\n",
    "                    records.append({\n",
    "                        \"filename\": filename,\n",
    "                        \"nazev\": str(geometries),\n",
    "                        \"minOccurs\": 0\n",
    "                    })\n",
    "\n",
    "        except Exception as e:\n",
    "            print(f\"Error while processing {filename}: {e}\")\n",
    "\n",
    "# Create DataFrame from collected records\n",
    "df_str2 = pd.DataFrame(records)\n",
    "\n",
    "# Save DataFrame to CSV file\n",
    "output_csv_path = os.path.join(output_file_path, \"str2.csv\")\n",
    "df_str2.to_csv(output_csv_path, index=False)\n",
    "\n",
    "# Show the DataFrame\n",
    "df_str2"
   ]
  },
  {
   "cell_type": "markdown",
   "source": [
    "## str1\n",
    "\n",
    "* So far the column zaznamy is missing,\n",
    "* mby instead of using xpath we could try iter() and find()\n"
   ],
   "metadata": {
    "collapsed": false
   },
   "id": "a5616748de51b262"
  },
  {
   "cell_type": "code",
   "execution_count": 86,
   "outputs": [
    {
     "data": {
      "text/plain": "                                     filename namespace zaznamy  \\\n0               BP_plynovodni_site-plocha.xsd    bpplsi     XXX   \n1    BP_podzemniho_zasobniku_plynu-plocha.xsd    bpppol     XXX   \n2                  BP_zarizeni_PKO-plocha.xsd    bpzpko     XXX   \n3                           budova-defbod.xsd    buddef     XXX   \n4                           budova-plocha.xsd    budpol     XXX   \n..                                        ...       ...     ...   \n353                             zed-linie.xsd    zedlin     XXX   \n354                            zed-plocha.xsd    zedpol     XXX   \n355             zeleznicni_prejezd-plocha.xsd    zprpol     XXX   \n356              zemedelska_plocha-defbod.xsd    zepdef     XXX   \n357              zemedelska_plocha-plocha.xsd    zeppol     XXX   \n\n                    geom  OblastObjektuKI                          name  \\\n0    gml:surfaceProperty                1              BPPlynovodniSite   \n1    gml:surfaceProperty                1    BPPodzemnihoZasobnikuPlynu   \n2    gml:surfaceProperty                1                 BPZarizeniPKO   \n3      gml:pointProperty                0            BudovaDefinicniBod   \n4    gml:surfaceProperty                0                  BudovaPlocha   \n..                   ...              ...                           ...   \n353    gml:curveProperty                0                      ZedLinie   \n354  gml:surfaceProperty                0                     ZedPlocha   \n355  gml:surfaceProperty                0             ZeleznicniPrejezd   \n356    gml:pointProperty                0  ZemedelskaPlochaDefinicniBod   \n357  gml:surfaceProperty                0        ZemedelskaPlochaPlocha   \n\n                                        type code_base_fixed code_base_use  \\\n0                bpplsi:BPPlynovodniSiteType       100000290      required   \n1      bpppol:BPPodzemnihoZasobnikuPlynuType       100000369      required   \n2                   bpzpko:BPZarizeniPKOType       100000291      required   \n3              buddef:BudovaDefinicniBodType       100000001      required   \n4                    budpol:BudovaPlochaType       100000001      required   \n..                                       ...             ...           ...   \n353                      zedlin:ZedLinieType       100000168      required   \n354                     zedpol:ZedPlochaType       100000168      required   \n355             zprpol:ZeleznicniPrejezdType       100000022      required   \n356  zepdef:ZemedelskaPlochaDefinicniBodType       100000207      required   \n357        zeppol:ZemedelskaPlochaPlochaType       100000207      required   \n\n    code_suffix_fixed code_suffix_use                 KategorieObjektu  \\\n0                   3        required    Ochranná a bezpečnostní pásma   \n1                   3        required    Ochranná a bezpečnostní pásma   \n2                   3        required    Ochranná a bezpečnostní pásma   \n3                   4        required                           Budovy   \n4                   3        required                           Budovy   \n..                ...             ...                              ...   \n353                 2        required  Součásti a příslušenství staveb   \n354                 3        required  Součásti a příslušenství staveb   \n355                 3        required                  Dopravní stavby   \n356                 4        required        Vodstvo, vegetace a terén   \n357                 3        required        Vodstvo, vegetace a terén   \n\n                      SkupinaObjektu ObsahovaCast geom_minOccurs  \\\n0      Ochranné a bezpečnostní pásmo           TI              0   \n1      Ochranné a bezpečnostní pásmo           TI              0   \n2      Ochranné a bezpečnostní pásmo           TI              0   \n3                      Objekt budovy          ZPS                  \n4                      Objekt budovy          ZPS                  \n..                               ...          ...            ...   \n353  Stavba společná pro více skupin          ZPS                  \n354  Stavba společná pro více skupin          ZPS                  \n355                   Drážní doprava           DI                  \n356               Hospodářská plocha          ZPS                  \n357               Hospodářská plocha          ZPS                  \n\n    oblaskKI_minOccurs  \n0                    0  \n1                    0  \n2                    0  \n3                       \n4                       \n..                 ...  \n353                     \n354                     \n355                     \n356                     \n357                     \n\n[358 rows x 16 columns]",
      "text/html": "<div>\n<style scoped>\n    .dataframe tbody tr th:only-of-type {\n        vertical-align: middle;\n    }\n\n    .dataframe tbody tr th {\n        vertical-align: top;\n    }\n\n    .dataframe thead th {\n        text-align: right;\n    }\n</style>\n<table border=\"1\" class=\"dataframe\">\n  <thead>\n    <tr style=\"text-align: right;\">\n      <th></th>\n      <th>filename</th>\n      <th>namespace</th>\n      <th>zaznamy</th>\n      <th>geom</th>\n      <th>OblastObjektuKI</th>\n      <th>name</th>\n      <th>type</th>\n      <th>code_base_fixed</th>\n      <th>code_base_use</th>\n      <th>code_suffix_fixed</th>\n      <th>code_suffix_use</th>\n      <th>KategorieObjektu</th>\n      <th>SkupinaObjektu</th>\n      <th>ObsahovaCast</th>\n      <th>geom_minOccurs</th>\n      <th>oblaskKI_minOccurs</th>\n    </tr>\n  </thead>\n  <tbody>\n    <tr>\n      <th>0</th>\n      <td>BP_plynovodni_site-plocha.xsd</td>\n      <td>bpplsi</td>\n      <td>XXX</td>\n      <td>gml:surfaceProperty</td>\n      <td>1</td>\n      <td>BPPlynovodniSite</td>\n      <td>bpplsi:BPPlynovodniSiteType</td>\n      <td>100000290</td>\n      <td>required</td>\n      <td>3</td>\n      <td>required</td>\n      <td>Ochranná a bezpečnostní pásma</td>\n      <td>Ochranné a bezpečnostní pásmo</td>\n      <td>TI</td>\n      <td>0</td>\n      <td>0</td>\n    </tr>\n    <tr>\n      <th>1</th>\n      <td>BP_podzemniho_zasobniku_plynu-plocha.xsd</td>\n      <td>bpppol</td>\n      <td>XXX</td>\n      <td>gml:surfaceProperty</td>\n      <td>1</td>\n      <td>BPPodzemnihoZasobnikuPlynu</td>\n      <td>bpppol:BPPodzemnihoZasobnikuPlynuType</td>\n      <td>100000369</td>\n      <td>required</td>\n      <td>3</td>\n      <td>required</td>\n      <td>Ochranná a bezpečnostní pásma</td>\n      <td>Ochranné a bezpečnostní pásmo</td>\n      <td>TI</td>\n      <td>0</td>\n      <td>0</td>\n    </tr>\n    <tr>\n      <th>2</th>\n      <td>BP_zarizeni_PKO-plocha.xsd</td>\n      <td>bpzpko</td>\n      <td>XXX</td>\n      <td>gml:surfaceProperty</td>\n      <td>1</td>\n      <td>BPZarizeniPKO</td>\n      <td>bpzpko:BPZarizeniPKOType</td>\n      <td>100000291</td>\n      <td>required</td>\n      <td>3</td>\n      <td>required</td>\n      <td>Ochranná a bezpečnostní pásma</td>\n      <td>Ochranné a bezpečnostní pásmo</td>\n      <td>TI</td>\n      <td>0</td>\n      <td>0</td>\n    </tr>\n    <tr>\n      <th>3</th>\n      <td>budova-defbod.xsd</td>\n      <td>buddef</td>\n      <td>XXX</td>\n      <td>gml:pointProperty</td>\n      <td>0</td>\n      <td>BudovaDefinicniBod</td>\n      <td>buddef:BudovaDefinicniBodType</td>\n      <td>100000001</td>\n      <td>required</td>\n      <td>4</td>\n      <td>required</td>\n      <td>Budovy</td>\n      <td>Objekt budovy</td>\n      <td>ZPS</td>\n      <td></td>\n      <td></td>\n    </tr>\n    <tr>\n      <th>4</th>\n      <td>budova-plocha.xsd</td>\n      <td>budpol</td>\n      <td>XXX</td>\n      <td>gml:surfaceProperty</td>\n      <td>0</td>\n      <td>BudovaPlocha</td>\n      <td>budpol:BudovaPlochaType</td>\n      <td>100000001</td>\n      <td>required</td>\n      <td>3</td>\n      <td>required</td>\n      <td>Budovy</td>\n      <td>Objekt budovy</td>\n      <td>ZPS</td>\n      <td></td>\n      <td></td>\n    </tr>\n    <tr>\n      <th>...</th>\n      <td>...</td>\n      <td>...</td>\n      <td>...</td>\n      <td>...</td>\n      <td>...</td>\n      <td>...</td>\n      <td>...</td>\n      <td>...</td>\n      <td>...</td>\n      <td>...</td>\n      <td>...</td>\n      <td>...</td>\n      <td>...</td>\n      <td>...</td>\n      <td>...</td>\n      <td>...</td>\n    </tr>\n    <tr>\n      <th>353</th>\n      <td>zed-linie.xsd</td>\n      <td>zedlin</td>\n      <td>XXX</td>\n      <td>gml:curveProperty</td>\n      <td>0</td>\n      <td>ZedLinie</td>\n      <td>zedlin:ZedLinieType</td>\n      <td>100000168</td>\n      <td>required</td>\n      <td>2</td>\n      <td>required</td>\n      <td>Součásti a příslušenství staveb</td>\n      <td>Stavba společná pro více skupin</td>\n      <td>ZPS</td>\n      <td></td>\n      <td></td>\n    </tr>\n    <tr>\n      <th>354</th>\n      <td>zed-plocha.xsd</td>\n      <td>zedpol</td>\n      <td>XXX</td>\n      <td>gml:surfaceProperty</td>\n      <td>0</td>\n      <td>ZedPlocha</td>\n      <td>zedpol:ZedPlochaType</td>\n      <td>100000168</td>\n      <td>required</td>\n      <td>3</td>\n      <td>required</td>\n      <td>Součásti a příslušenství staveb</td>\n      <td>Stavba společná pro více skupin</td>\n      <td>ZPS</td>\n      <td></td>\n      <td></td>\n    </tr>\n    <tr>\n      <th>355</th>\n      <td>zeleznicni_prejezd-plocha.xsd</td>\n      <td>zprpol</td>\n      <td>XXX</td>\n      <td>gml:surfaceProperty</td>\n      <td>0</td>\n      <td>ZeleznicniPrejezd</td>\n      <td>zprpol:ZeleznicniPrejezdType</td>\n      <td>100000022</td>\n      <td>required</td>\n      <td>3</td>\n      <td>required</td>\n      <td>Dopravní stavby</td>\n      <td>Drážní doprava</td>\n      <td>DI</td>\n      <td></td>\n      <td></td>\n    </tr>\n    <tr>\n      <th>356</th>\n      <td>zemedelska_plocha-defbod.xsd</td>\n      <td>zepdef</td>\n      <td>XXX</td>\n      <td>gml:pointProperty</td>\n      <td>0</td>\n      <td>ZemedelskaPlochaDefinicniBod</td>\n      <td>zepdef:ZemedelskaPlochaDefinicniBodType</td>\n      <td>100000207</td>\n      <td>required</td>\n      <td>4</td>\n      <td>required</td>\n      <td>Vodstvo, vegetace a terén</td>\n      <td>Hospodářská plocha</td>\n      <td>ZPS</td>\n      <td></td>\n      <td></td>\n    </tr>\n    <tr>\n      <th>357</th>\n      <td>zemedelska_plocha-plocha.xsd</td>\n      <td>zeppol</td>\n      <td>XXX</td>\n      <td>gml:surfaceProperty</td>\n      <td>0</td>\n      <td>ZemedelskaPlochaPlocha</td>\n      <td>zeppol:ZemedelskaPlochaPlochaType</td>\n      <td>100000207</td>\n      <td>required</td>\n      <td>3</td>\n      <td>required</td>\n      <td>Vodstvo, vegetace a terén</td>\n      <td>Hospodářská plocha</td>\n      <td>ZPS</td>\n      <td></td>\n      <td></td>\n    </tr>\n  </tbody>\n</table>\n<p>358 rows × 16 columns</p>\n</div>"
     },
     "execution_count": 86,
     "metadata": {},
     "output_type": "execute_result"
    }
   ],
   "source": [
    "# Path to the folder with extracted .xsd files\n",
    "xsd_objekty_path = os.path.join(output_file_path, 'xsd', 'objekty')\n",
    "\n",
    "# Initialize an empty list for the result records\n",
    "records = []\n",
    "\n",
    "# Iterate over all .xsd files in the folder\n",
    "for filename in os.listdir(xsd_objekty_path):\n",
    "    if filename.endswith(\".xsd\"):\n",
    "        full_path = os.path.join(xsd_objekty_path, filename)\n",
    "        try:\n",
    "            tree = etree.parse(full_path)\n",
    "            root = tree.getroot()\n",
    "            namespace = root.attrib.get(\"targetNamespace\", \"\")\n",
    "            element_name = \"\"\n",
    "            element_type = \"\"\n",
    "            code_base_fixed = \"\"\n",
    "            code_base_use = \"\"\n",
    "            code_suffix_fixed = \"\"\n",
    "            code_suffix_use = \"\"\n",
    "            kategorie_objektu = \"\"\n",
    "            skupina_objektu = \"\"\n",
    "            obsahova_cast = \"\"\n",
    "            geom_minOccurs = \"\"\n",
    "            oblastObjektuKI = 0\n",
    "            ki_minOccurs = \"\"\n",
    "            geom = \"\"\n",
    "            # Find all complexType definitions\n",
    "            complex_types = root.xpath(\".//*[local-name()='complexType']\")\n",
    "            for ct in complex_types:\n",
    "                geometries = []  # collect gml: geometry types\n",
    "                for el in ct.xpath(\".//*[local-name()='element']\"):\n",
    "                    name = el.get(\"name\")\n",
    "                # if name is not None:\n",
    "                    ref = el.get(\"ref\")\n",
    "                    # typ = el.get(\"type\")\n",
    "                    min_occurs = el.get(\"minOccurs\")\n",
    "                    first_element = root.xpath(f\".//*[local-name()='element'][starts-with(@type, '{namespace}:')]\")\n",
    "                    if first_element:\n",
    "                        element_name = first_element[0].get(\"name\")\n",
    "                        element_type = first_element[0].get(\"type\")\n",
    "                    \n",
    "                    if name == \"ObjektovyTypNazev\":\n",
    "                        code_base_fixed_list = el.xpath(\".//*[local-name()='attribute' and @name='code_base']/@fixed\")\n",
    "                        code_base_use_list = el.xpath(\".//*[local-name()='attribute' and @name='code_base']/@use\")\n",
    "                        code_suffix_fixed_list = el.xpath(\".//*[local-name()='attribute' and @name='code_suffix']/@fixed\")\n",
    "                        code_suffix_use_list = el.xpath(\".//*[local-name()='attribute' and @name='code_suffix']/@use\")\n",
    "\n",
    "                        code_base_fixed = int(code_base_fixed_list[0]) if code_base_fixed_list else \"\"\n",
    "                        code_base_use = code_base_use_list[0] if code_base_use_list else \"\"\n",
    "                        code_suffix_fixed = int(code_suffix_fixed_list[0]) if code_suffix_fixed_list else \"\"\n",
    "                        code_suffix_use = code_suffix_use_list[0] if code_suffix_use_list else \"\"\n",
    "\n",
    "                    elif name == \"KategorieObjektu\":\n",
    "                        kategorie_objektu = el.get('fixed', '')\n",
    "                    elif name == \"SkupinaObjektu\":\n",
    "                        skupina_objektu = el.get('fixed', '')\n",
    "                    elif name == \"ObsahovaCast\":\n",
    "                        obsahova_cast = el.get('fixed', '')\n",
    "                    elif name == \"GeometrieObjektu\":\n",
    "                        geom_minOccurs = el.get('minOccurs', '')\n",
    "                        ref_elem = el.xpath(\".//*[local-name()='element' and @ref]\")\n",
    "                        geom = ref_elem[0].get(\"ref\")\n",
    "                        \n",
    "                    if ref==\"atr:OblastObjektuKI\":\n",
    "                        ki_minOccurs = el.get('minOccurs', '')\n",
    "                        oblastObjektuKI = 1\n",
    "                        \n",
    "                        \n",
    "        \n",
    "            records.append({\n",
    "                \"filename\": filename,\n",
    "                \"namespace\": namespace,\n",
    "                \"zaznamy\": 'XXX',\n",
    "                \"geom\":geom,\n",
    "                \"OblastObjektuKI\":oblastObjektuKI,\n",
    "                \"name\":element_name,\n",
    "                \"type\":element_type,\n",
    "                \"code_base_fixed\":code_base_fixed,\n",
    "                \"code_base_use\":code_base_use,\n",
    "                \"code_suffix_fixed\":code_suffix_fixed,\n",
    "                \"code_suffix_use\":code_suffix_use,\n",
    "                \"KategorieObjektu\":kategorie_objektu,\n",
    "                \"SkupinaObjektu\":skupina_objektu,\n",
    "                \"ObsahovaCast\":obsahova_cast,\n",
    "                \"geom_minOccurs\":geom_minOccurs,\n",
    "                \"oblaskKI_minOccurs\":ki_minOccurs\n",
    "            })\n",
    "        except Exception as e:\n",
    "            print(f\"Error while processing {filename}: {e}\")\n",
    "\n",
    "\n",
    "# Create DataFrame from collected records\n",
    "df_str2 = pd.DataFrame(records)\n",
    "\n",
    "# Save DataFrame to CSV file\n",
    "output_csv_path = os.path.join(output_file_path, \"str1.csv\")\n",
    "df_str2.to_csv(output_csv_path, index=False)\n",
    "\n",
    "# Show the DataFrame\n",
    "df_str2"
   ],
   "metadata": {
    "collapsed": false,
    "ExecuteTime": {
     "end_time": "2025-05-13T22:26:14.719010500Z",
     "start_time": "2025-05-13T22:26:13.914186600Z"
    }
   },
   "id": "4a189c84b0c1f19b"
  },
  {
   "cell_type": "code",
   "execution_count": 87,
   "id": "6371b2d7-f1a5-4d98-b18d-752af68ad83f",
   "metadata": {
    "ExecuteTime": {
     "end_time": "2025-05-13T22:37:07.057889400Z",
     "start_time": "2025-05-13T22:37:07.046168900Z"
    }
   },
   "outputs": [],
   "source": [
    "# # Helper function to extract the targetNamespace from an XSD file\n",
    "# def get_target_namespace(file_path):\n",
    "#     try:\n",
    "#         tree = etree.parse(file_path)\n",
    "#         root = tree.getroot()\n",
    "#         return root.attrib.get(\"targetNamespace\", \"\")\n",
    "#     except Exception as e:\n",
    "#         print(f\"Error while reading {file_path}: {e}\")\n",
    "#         return \"\"\n",
    "# \n",
    "# # Build a list of dictionaries with filenames and their associated namespaces\n",
    "# xsd_info = []\n",
    "# for fname in os.listdir(xsd_objekty_path):\n",
    "#     if fname.endswith(\".xsd\"):\n",
    "#         full_path = os.path.join(xsd_objekty_path, fname)\n",
    "#         namespace = get_target_namespace(full_path)\n",
    "#         xsd_info.append({\"filename\": fname, \"namespace\": namespace})\n",
    "# \n",
    "# # Convert the list into a pandas DataFrame\n",
    "# df_xsd_files = pd.DataFrame(xsd_info)\n",
    "# \n",
    "# # Show the DataFrame\n",
    "# df_xsd_files"
   ]
  }
 ],
 "metadata": {
  "kernelspec": {
   "display_name": "Python 3 (ipykernel)",
   "language": "python",
   "name": "python3"
  },
  "language_info": {
   "codemirror_mode": {
    "name": "ipython",
    "version": 3
   },
   "file_extension": ".py",
   "mimetype": "text/x-python",
   "name": "python",
   "nbconvert_exporter": "python",
   "pygments_lexer": "ipython3",
   "version": "3.12.10"
  }
 },
 "nbformat": 4,
 "nbformat_minor": 5
}
