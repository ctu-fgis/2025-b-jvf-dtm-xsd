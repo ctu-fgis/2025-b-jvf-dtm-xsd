{
 "cells": [
  {
   "cell_type": "markdown",
   "id": "776380a8-25f5-4ba1-8744-cb2a393081ae",
   "metadata": {},
   "source": [
    "# XSD to CSV Conversion Testing"
   ]
  },
  {
   "cell_type": "markdown",
   "id": "e1195385-adce-4e31-8c74-cd422d8aa363",
   "metadata": {},
   "source": [
    "### Import needed libraries\n",
    "\n",
    "- `zipfile` – for working with ZIP archives\n",
    "- `json` – for working with jsons\n",
    "- `xmlschema` – to read and validate XSD files (`pip install xmlschema`)\n",
    "- `pandas` – for working with tables and dataframes (`pip install pandas`)\n",
    "- `lxml.etree` – to parse and read XML/XSD structure (`pip install lxml`)\n",
    "- `pathlib.Path` – for path handling\n",
    "\n",
    "Make sure to install missing ones using `pip` if needed."
   ]
  },
  {
   "cell_type": "code",
   "execution_count": 26,
   "id": "a9e56d19-9ef9-451a-820d-1dfe3b202115",
   "metadata": {
    "ExecuteTime": {
     "end_time": "2025-06-23T10:46:05.725068400Z",
     "start_time": "2025-06-23T10:46:05.720500400Z"
    }
   },
   "outputs": [],
   "source": [
    "import zipfile\n",
    "import json\n",
    "import xmlschema\n",
    "import pandas as pd\n",
    "from lxml import etree\n",
    "from pathlib import Path\n",
    "from collections import OrderedDict"
   ]
  },
  {
   "cell_type": "markdown",
   "id": "4cb32fef-c02b-4a93-8969-42913f5b645a",
   "metadata": {},
   "source": [
    "### Set paths for input ZIP and output folder\n",
    "\n",
    "This cell sets:\n",
    "- `input_zip_path`: path to the input ZIP file with XSDs\n",
    "- `output_path`: where to extract files\n",
    "\n",
    "If the folder doesn't exist, it will be created."
   ]
  },
  {
   "cell_type": "code",
   "execution_count": 22,
   "id": "e7b470be-ec37-4aa4-80ab-338e63d70f7b",
   "metadata": {
    "ExecuteTime": {
     "end_time": "2025-06-23T10:06:42.101600200Z",
     "start_time": "2025-06-23T10:06:42.081242100Z"
    }
   },
   "outputs": [],
   "source": [
    "# Define the path to the input zip file and output directory\n",
    "input_zip_path = Path(\"../tests/data/JVF_DTM_150_beta3_XSD.zip\")\n",
    "output_path = Path(\"../tests/output/JVF_DTM_150_beta3_XSD\")\n",
    "\n",
    "# Create the output directory if it doesn't exist\n",
    "output_path.mkdir(parents=True, exist_ok=True)"
   ]
  },
  {
   "cell_type": "markdown",
   "id": "0eda1e04-6da7-48a8-ada7-a41dbd9bfca6",
   "metadata": {},
   "source": [
    "### Unzip the input file\n",
    "\n",
    "Extracts the ZIP archive to the output folder and prints the extracted file names."
   ]
  },
  {
   "cell_type": "code",
   "execution_count": 23,
   "id": "e356362a-3dd3-4b01-8391-51fb2e5486dd",
   "metadata": {
    "ExecuteTime": {
     "end_time": "2025-06-23T10:06:45.869048400Z",
     "start_time": "2025-06-23T10:06:45.573868400Z"
    }
   },
   "outputs": [
    {
     "name": "stdout",
     "output_type": "stream",
     "text": [
      "Extracted to: ..\\tests\\output\\JVF_DTM_150_beta3_XSD\n",
      "['xsd']\n"
     ]
    }
   ],
   "source": [
    "# Extract the zip file\n",
    "with zipfile.ZipFile(input_zip_path, 'r') as zip_ref:\n",
    "    zip_ref.extractall(output_path)\n",
    "\n",
    "# Show extracted files\n",
    "print(f\"Extracted to: {output_path}\")\n",
    "print(sorted(f.name for f in output_path.iterdir()))"
   ]
  },
  {
   "cell_type": "markdown",
   "id": "e3f1c401-aa13-4333-b82c-e1b523a8c743",
   "metadata": {},
   "source": [
    "### Load and parse XSD files\n",
    "\n",
    "Defines a function that finds all `.xsd` files in the folder, parses them into XML trees, and returns a list of (file name, XML root element) pairs."
   ]
  },
  {
   "cell_type": "code",
   "execution_count": 120,
   "id": "22757a34-5866-4dea-9a67-8b24691b9bd8",
   "metadata": {
    "ExecuteTime": {
     "end_time": "2025-06-22T23:14:13.304955700Z",
     "start_time": "2025-06-22T23:14:06.775849600Z"
    }
   },
   "outputs": [],
   "source": [
    "# Set the path to the folder with extracted XSD files\n",
    "xsd_dir = output_path / \"xsd\"\n",
    "\n",
    "def load_xsd_files(directory):\n",
    "    \"\"\"Load all XSD files from the given directory and parse them into XML trees.\n",
    "    \n",
    "    Args:\n",
    "        directory (Path): Base directory to search for .xsd files.\n",
    "\n",
    "    Returns:\n",
    "        list of (filename, XML root element) tuples.\n",
    "    \"\"\"\n",
    "    \n",
    "    # Initialize an empty list to store parsed XSD file information\n",
    "    xsd_files = []\n",
    "    \n",
    "    # Recursively find all .xsd files\n",
    "    for path in directory.rglob(\"*.xsd\"):\n",
    "        try:\n",
    "            # Parse the file into an XML tree\n",
    "            tree = etree.parse(str(path))\n",
    "    \n",
    "            # Add the file name and root element to the list\n",
    "            xsd_files.append((path.name, tree.getroot()))\n",
    "    \n",
    "        except etree.XMLSyntaxError as e:\n",
    "            # Handle invalid XML syntax\n",
    "            print(f\"[XMLSyntaxError] Skipping {path.name}: {e}\")\n",
    "    \n",
    "        except Exception as e:\n",
    "            #  Handle all unexpected errors\n",
    "            print(f\"[UnexpectedError] Could not process {path.name}: {e}\")\n",
    "            raise  # Re-raise the exception\n",
    "\n",
    "    return xsd_files\n",
    "\n",
    "# Call the function to load and parse the XSD files\n",
    "xsd_files = load_xsd_files(xsd_dir)"
   ]
  },
  {
   "cell_type": "markdown",
   "id": "192555cb-b85a-450b-b8e5-4a5227c58027",
   "metadata": {},
   "source": [
    "### Create summary table of XSD files\n",
    "\n",
    "Builds a simple table showing each XSD file's name, root tag, and number of elements."
   ]
  },
  {
   "cell_type": "code",
   "execution_count": 5,
   "id": "713f0d5d-c7c5-44d9-9863-cb3d8f0f0d27",
   "metadata": {
    "ExecuteTime": {
     "end_time": "2025-06-22T12:50:44.038449300Z",
     "start_time": "2025-06-22T12:50:43.965150100Z"
    }
   },
   "outputs": [
    {
     "data": {
      "text/plain": "                    File Name                                  Root Tag  \\\n0                atributy.xsd  {http://www.w3.org/2001/XMLSchema}schema   \n1                  common.xsd  {http://www.w3.org/2001/XMLSchema}schema   \n2    doprovodne_informace.xsd  {http://www.w3.org/2001/XMLSchema}schema   \n3                 extenze.xsd  {http://www.w3.org/2001/XMLSchema}schema   \n4                  servis.xsd  {http://www.w3.org/2001/XMLSchema}schema   \n..                        ...                                       ...   \n514    spatialReferencing.xsd  {http://www.w3.org/2001/XMLSchema}schema   \n515              geometry.xsd  {http://www.w3.org/2001/XMLSchema}schema   \n516                   gss.xsd  {http://www.w3.org/2001/XMLSchema}schema   \n517                   gts.xsd  {http://www.w3.org/2001/XMLSchema}schema   \n518       temporalObjects.xsd  {http://www.w3.org/2001/XMLSchema}schema   \n\n     Number of Elements  \n0                   243  \n1                    10  \n2                    56  \n3                     1  \n4                     2  \n..                  ...  \n514                  14  \n515                  19  \n516                   7  \n517                   7  \n518                  19  \n\n[519 rows x 3 columns]",
      "text/html": "<div>\n<style scoped>\n    .dataframe tbody tr th:only-of-type {\n        vertical-align: middle;\n    }\n\n    .dataframe tbody tr th {\n        vertical-align: top;\n    }\n\n    .dataframe thead th {\n        text-align: right;\n    }\n</style>\n<table border=\"1\" class=\"dataframe\">\n  <thead>\n    <tr style=\"text-align: right;\">\n      <th></th>\n      <th>File Name</th>\n      <th>Root Tag</th>\n      <th>Number of Elements</th>\n    </tr>\n  </thead>\n  <tbody>\n    <tr>\n      <th>0</th>\n      <td>atributy.xsd</td>\n      <td>{http://www.w3.org/2001/XMLSchema}schema</td>\n      <td>243</td>\n    </tr>\n    <tr>\n      <th>1</th>\n      <td>common.xsd</td>\n      <td>{http://www.w3.org/2001/XMLSchema}schema</td>\n      <td>10</td>\n    </tr>\n    <tr>\n      <th>2</th>\n      <td>doprovodne_informace.xsd</td>\n      <td>{http://www.w3.org/2001/XMLSchema}schema</td>\n      <td>56</td>\n    </tr>\n    <tr>\n      <th>3</th>\n      <td>extenze.xsd</td>\n      <td>{http://www.w3.org/2001/XMLSchema}schema</td>\n      <td>1</td>\n    </tr>\n    <tr>\n      <th>4</th>\n      <td>servis.xsd</td>\n      <td>{http://www.w3.org/2001/XMLSchema}schema</td>\n      <td>2</td>\n    </tr>\n    <tr>\n      <th>...</th>\n      <td>...</td>\n      <td>...</td>\n      <td>...</td>\n    </tr>\n    <tr>\n      <th>514</th>\n      <td>spatialReferencing.xsd</td>\n      <td>{http://www.w3.org/2001/XMLSchema}schema</td>\n      <td>14</td>\n    </tr>\n    <tr>\n      <th>515</th>\n      <td>geometry.xsd</td>\n      <td>{http://www.w3.org/2001/XMLSchema}schema</td>\n      <td>19</td>\n    </tr>\n    <tr>\n      <th>516</th>\n      <td>gss.xsd</td>\n      <td>{http://www.w3.org/2001/XMLSchema}schema</td>\n      <td>7</td>\n    </tr>\n    <tr>\n      <th>517</th>\n      <td>gts.xsd</td>\n      <td>{http://www.w3.org/2001/XMLSchema}schema</td>\n      <td>7</td>\n    </tr>\n    <tr>\n      <th>518</th>\n      <td>temporalObjects.xsd</td>\n      <td>{http://www.w3.org/2001/XMLSchema}schema</td>\n      <td>19</td>\n    </tr>\n  </tbody>\n</table>\n<p>519 rows × 3 columns</p>\n</div>"
     },
     "execution_count": 5,
     "metadata": {},
     "output_type": "execute_result"
    }
   ],
   "source": [
    "# Initialize empty lists for storing data\n",
    "summary = []\n",
    "\n",
    "for file_name, root in xsd_files:\n",
    "    summary.append({\n",
    "        \"File Name\": file_name,\n",
    "        \"Root Tag\": root.tag,\n",
    "        \"Number of Elements\": len(root)\n",
    "    })\n",
    "\n",
    "df_summary = pd.DataFrame(summary)\n",
    "df_summary"
   ]
  },
  {
   "cell_type": "markdown",
   "id": "f2825003-bc69-46f9-b785-9cc3e87a77aa",
   "metadata": {},
   "source": [
    "### Table of XSD Element References\n",
    "\n",
    "This cell generates a table `str2.csv`\n",
    "\n",
    "Each row includes:\n",
    "- **filename**: the XSD file name,\n",
    "- **nazev**: the reference name (`atr:` or `gml:`),\n",
    "- **minOccurs**: optionality (`0` if the element is optional)."
   ]
  },
  {
   "cell_type": "code",
   "execution_count": 6,
   "id": "7c4f3629-52d7-4388-950a-d00b06d0629d",
   "metadata": {
    "ExecuteTime": {
     "end_time": "2025-06-22T12:50:44.984745300Z",
     "start_time": "2025-06-22T12:50:44.043106100Z"
    }
   },
   "outputs": [
    {
     "data": {
      "text/plain": "                                     filename  \\\n0               BP_plynovodni_site-plocha.xsd   \n1    BP_podzemniho_zasobniku_plynu-plocha.xsd   \n2    BP_podzemniho_zasobniku_plynu-plocha.xsd   \n3                  BP_zarizeni_PKO-plocha.xsd   \n4                          chodnik-defbod.xsd   \n..                                        ...   \n552                             zed-linie.xsd   \n553                             zed-linie.xsd   \n554                            zed-plocha.xsd   \n555              zemedelska_plocha-defbod.xsd   \n556              zemedelska_plocha-plocha.xsd   \n\n                               nazev minOccurs  \n0                atr:OblastObjektuKI         0  \n1    atr:TypPodzemnihoZasobnikuPlynu      None  \n2                atr:OblastObjektuKI         0  \n3                atr:OblastObjektuKI         0  \n4              atr:PrevazujiciPovrch      None  \n..                               ...       ...  \n552                       atr:TypZdi      None  \n553         atr:HraniceJinehoObjektu      None  \n554                       atr:TypZdi      None  \n555          atr:TypZemedelskePlochy      None  \n556          atr:TypZemedelskePlochy      None  \n\n[557 rows x 3 columns]",
      "text/html": "<div>\n<style scoped>\n    .dataframe tbody tr th:only-of-type {\n        vertical-align: middle;\n    }\n\n    .dataframe tbody tr th {\n        vertical-align: top;\n    }\n\n    .dataframe thead th {\n        text-align: right;\n    }\n</style>\n<table border=\"1\" class=\"dataframe\">\n  <thead>\n    <tr style=\"text-align: right;\">\n      <th></th>\n      <th>filename</th>\n      <th>nazev</th>\n      <th>minOccurs</th>\n    </tr>\n  </thead>\n  <tbody>\n    <tr>\n      <th>0</th>\n      <td>BP_plynovodni_site-plocha.xsd</td>\n      <td>atr:OblastObjektuKI</td>\n      <td>0</td>\n    </tr>\n    <tr>\n      <th>1</th>\n      <td>BP_podzemniho_zasobniku_plynu-plocha.xsd</td>\n      <td>atr:TypPodzemnihoZasobnikuPlynu</td>\n      <td>None</td>\n    </tr>\n    <tr>\n      <th>2</th>\n      <td>BP_podzemniho_zasobniku_plynu-plocha.xsd</td>\n      <td>atr:OblastObjektuKI</td>\n      <td>0</td>\n    </tr>\n    <tr>\n      <th>3</th>\n      <td>BP_zarizeni_PKO-plocha.xsd</td>\n      <td>atr:OblastObjektuKI</td>\n      <td>0</td>\n    </tr>\n    <tr>\n      <th>4</th>\n      <td>chodnik-defbod.xsd</td>\n      <td>atr:PrevazujiciPovrch</td>\n      <td>None</td>\n    </tr>\n    <tr>\n      <th>...</th>\n      <td>...</td>\n      <td>...</td>\n      <td>...</td>\n    </tr>\n    <tr>\n      <th>552</th>\n      <td>zed-linie.xsd</td>\n      <td>atr:TypZdi</td>\n      <td>None</td>\n    </tr>\n    <tr>\n      <th>553</th>\n      <td>zed-linie.xsd</td>\n      <td>atr:HraniceJinehoObjektu</td>\n      <td>None</td>\n    </tr>\n    <tr>\n      <th>554</th>\n      <td>zed-plocha.xsd</td>\n      <td>atr:TypZdi</td>\n      <td>None</td>\n    </tr>\n    <tr>\n      <th>555</th>\n      <td>zemedelska_plocha-defbod.xsd</td>\n      <td>atr:TypZemedelskePlochy</td>\n      <td>None</td>\n    </tr>\n    <tr>\n      <th>556</th>\n      <td>zemedelska_plocha-plocha.xsd</td>\n      <td>atr:TypZemedelskePlochy</td>\n      <td>None</td>\n    </tr>\n  </tbody>\n</table>\n<p>557 rows × 3 columns</p>\n</div>"
     },
     "execution_count": 6,
     "metadata": {},
     "output_type": "execute_result"
    }
   ],
   "source": [
    "# Path to the folder with extracted XSD files\n",
    "xsd_objects_path = output_path / \"xsd\" / \"objekty\"\n",
    "\n",
    "records = []\n",
    "seen_global = set()  # Track all (filename, nazev) pairs to avoid duplicates\n",
    "\n",
    "# Loop through all .xsd files in the directory\n",
    "for file_path in xsd_objects_path.glob(\"*.xsd\"):\n",
    "    try:\n",
    "        # Parse the XSD file into an XML tree\n",
    "        tree = etree.parse(str(file_path))\n",
    "        root = tree.getroot()\n",
    "\n",
    "        # Find all <complexType> elements in the schema\n",
    "        complex_types = root.xpath(\".//*[local-name()='complexType']\")\n",
    "\n",
    "        for complex_type in complex_types:\n",
    "            atr_normal = []\n",
    "            atr_ki = []\n",
    "            gml_refs = []\n",
    "            gml_min_flags = []\n",
    "            atr_ki_with_0 = False\n",
    "\n",
    "            # Find nested <element> definitions\n",
    "            for element in complex_type.xpath(\".//*[local-name()='element']\"):\n",
    "                ref = element.get(\"ref\")\n",
    "                min_occurs = element.get(\"minOccurs\")\n",
    "\n",
    "                if not ref:\n",
    "                    continue\n",
    "\n",
    "                key = (file_path.name, ref)\n",
    "                if key in seen_global:\n",
    "                    continue\n",
    "                seen_global.add(key)\n",
    "\n",
    "                # Handle atr: references\n",
    "                if ref.startswith(\"atr:\"):\n",
    "                    entry = {\n",
    "                        \"filename\": file_path.name,\n",
    "                        \"nazev\": ref,\n",
    "                        \"minOccurs\": min_occurs  # May be None\n",
    "                    }\n",
    "                    if ref.endswith(\"KI\"):\n",
    "                        atr_ki.append(entry)\n",
    "                        if min_occurs == \"0\":\n",
    "                            atr_ki_with_0 = True\n",
    "                    else:\n",
    "                        atr_normal.append(entry)\n",
    "\n",
    "                # Handle gml: references\n",
    "                elif ref.startswith(\"gml:\"):\n",
    "                    gml_refs.append(ref)\n",
    "                    gml_min_flags.append(min_occurs)\n",
    "\n",
    "            # Add atr: not ending with KI\n",
    "            records.extend(atr_normal)\n",
    "\n",
    "            # Add gml: references\n",
    "            if gml_refs:\n",
    "                min_occurs_final = \"0\" if \"0\" in gml_min_flags or atr_ki_with_0 else None\n",
    "                records.append({\n",
    "                    \"filename\": file_path.name,\n",
    "                    \"nazev\": str(gml_refs),  # Format as list string e.g. ['gml:...']\n",
    "                    \"minOccurs\": min_occurs_final\n",
    "                })\n",
    "\n",
    "            # Add atr: ending with KI\n",
    "            records.extend(atr_ki)\n",
    "\n",
    "    except etree.XMLSyntaxError as e:\n",
    "        print(f\"[XMLSyntaxError] {file_path.name}: {e}\")\n",
    "    except Exception as e:\n",
    "        print(f\"[Error] Failed to process {file_path.name}: {e}\")\n",
    "        raise\n",
    "\n",
    "# Create DataFrame from extracted records\n",
    "df_str2 = pd.DataFrame(records)\n",
    "\n",
    "# Save the DataFrame to CSV\n",
    "df_str2.to_csv(output_path.parent / \"summary_1.5.0.csv\", index=False)\n",
    "\n",
    "# Display the resulting DataFrame\n",
    "df_str2"
   ]
  },
  {
   "cell_type": "markdown",
   "id": "8f9d78e81fdf2b4f",
   "metadata": {
    "collapsed": false
   },
   "source": [
    "## Detailed CSV\n",
    "\n",
    "* target fields defined in JSON file - config_1.5.0.json or config_1.5.0.json\n",
    "* can process both versions"
   ]
  },
  {
   "cell_type": "markdown",
   "source": [
    "Detailed CSV - testing new version on old data 1.4.3"
   ],
   "metadata": {
    "collapsed": false
   },
   "id": "6cb69788c12fc66a"
  },
  {
   "cell_type": "code",
   "execution_count": 31,
   "outputs": [
    {
     "data": {
      "text/plain": "                                     filename namespace  \\\n0                 autobusova_zastavka-bod.xsd    autzas   \n1               BP_plynovodni_site-plocha.xsd    bpplsi   \n2    BP_podzemniho_zasobniku_plynu-plocha.xsd    bpppol   \n3                  BP_zarizeni_PKO-plocha.xsd    bpzpko   \n4                           budova-defbod.xsd    buddef   \n..                                        ...       ...   \n425                            zed-plocha.xsd    zedpol   \n426             zeleznicni_navestidlo-bod.xsd    zelnav   \n427             zeleznicni_prejezd-plocha.xsd    zprpol   \n428              zemedelska_plocha-defbod.xsd    zepdef   \n429              zemedelska_plocha-plocha.xsd    zeppol   \n\n                             name                              type  \\\n0              AutobusovaZastavka            AutobusovaZastavkaType   \n1                BPPlynovodniSite              BPPlynovodniSiteType   \n2      BPPodzemnihoZasobnikuPlynu    BPPodzemnihoZasobnikuPlynuType   \n3                   BPZarizeniPKO                 BPZarizeniPKOType   \n4              BudovaDefinicniBod            BudovaDefinicniBodType   \n..                            ...                               ...   \n425                     ZedPlocha                     ZedPlochaType   \n426          ZeleznicniNavestidlo          ZeleznicniNavestidloType   \n427             ZeleznicniPrejezd             ZeleznicniPrejezdType   \n428  ZemedelskaPlochaDefinicniBod  ZemedelskaPlochaDefinicniBodType   \n429        ZemedelskaPlochaPlocha        ZemedelskaPlochaPlochaType   \n\n              ZaznamObjektu_type                GeometrieObjektu_type  \\\n0    [RefV, RefV, Ins, Upd, Del]        [cmn:GeometrieObjektuBodType]   \n1          [RefN, Ins, Upd, Del]  [cmn:GeometrieObjektuPlochaDTIType]   \n2          [RefN, Ins, Upd, Del]  [cmn:GeometrieObjektuPlochaDTIType]   \n3          [RefN, Ins, Upd, Del]  [cmn:GeometrieObjektuPlochaDTIType]   \n4          [RefV, Ins, Upd, Del]        [cmn:GeometrieObjektuBodType]   \n..                           ...                                  ...   \n425        [RefV, Ins, Upd, Del]  [cmn:GeometrieObjektuPlochaZPSType]   \n426  [RefV, RefV, Ins, Upd, Del]        [cmn:GeometrieObjektuBodType]   \n427  [RefV, RefV, Ins, Upd, Del]  [cmn:GeometrieObjektuPlochaDTIType]   \n428        [RefV, Ins, Upd, Del]        [cmn:GeometrieObjektuBodType]   \n429        [RefV, Ins, Upd, Del]  [cmn:GeometrieObjektuPlochaZPSType]   \n\n    OblastObjektuKI code_base_fixed code_base_use code_suffix_fixed  \\\n0                 0      0100000374      required                01   \n1                 1      0100000290      required                03   \n2                 1      0100000369      required                03   \n3                 1      0100000291      required                03   \n4                 0      0100000001      required                04   \n..              ...             ...           ...               ...   \n425               0      0100000168      required                03   \n426               0      0100000376      required                01   \n427               0      0100000022      required                03   \n428               0      0100000207      required                04   \n429               0      0100000207      required                03   \n\n    code_suffix_use dim_fixed     dim_use gia_fixed     gia_use  \\\n0          required         3  prohibited         1  prohibited   \n1          required         2  prohibited         0  prohibited   \n2          required         2  prohibited         0  prohibited   \n3          required         2  prohibited         0  prohibited   \n4          required         3  prohibited         0  prohibited   \n..              ...       ...         ...       ...         ...   \n425        required         3  prohibited         0  prohibited   \n426        required         3  prohibited         1  prohibited   \n427        required         3  prohibited         1  prohibited   \n428        required         3  prohibited         0  prohibited   \n429        required         3  prohibited         0  prohibited   \n\n              KategorieObjektu_fixed             SkupinaObjektu_fixed  \\\n0                    Dopravní stavby                 Silniční doprava   \n1      Ochranná a bezpečnostní pásma    Ochranné a bezpečnostní pásmo   \n2      Ochranná a bezpečnostní pásma    Ochranné a bezpečnostní pásmo   \n3      Ochranná a bezpečnostní pásma    Ochranné a bezpečnostní pásmo   \n4                             Budovy                    Objekt budovy   \n..                               ...                              ...   \n425  Součásti a příslušenství staveb  Stavba společná pro více skupin   \n426                  Dopravní stavby                   Drážní doprava   \n427                  Dopravní stavby                   Drážní doprava   \n428        Vodstvo, vegetace a terén               Hospodářská plocha   \n429        Vodstvo, vegetace a terén               Hospodářská plocha   \n\n    ObsahovaCast_fixed  \n0                   DI  \n1                   TI  \n2                   TI  \n3                   TI  \n4                  ZPS  \n..                 ...  \n425                ZPS  \n426                 DI  \n427                 DI  \n428                ZPS  \n429                ZPS  \n\n[430 rows x 18 columns]",
      "text/html": "<div>\n<style scoped>\n    .dataframe tbody tr th:only-of-type {\n        vertical-align: middle;\n    }\n\n    .dataframe tbody tr th {\n        vertical-align: top;\n    }\n\n    .dataframe thead th {\n        text-align: right;\n    }\n</style>\n<table border=\"1\" class=\"dataframe\">\n  <thead>\n    <tr style=\"text-align: right;\">\n      <th></th>\n      <th>filename</th>\n      <th>namespace</th>\n      <th>name</th>\n      <th>type</th>\n      <th>ZaznamObjektu_type</th>\n      <th>GeometrieObjektu_type</th>\n      <th>OblastObjektuKI</th>\n      <th>code_base_fixed</th>\n      <th>code_base_use</th>\n      <th>code_suffix_fixed</th>\n      <th>code_suffix_use</th>\n      <th>dim_fixed</th>\n      <th>dim_use</th>\n      <th>gia_fixed</th>\n      <th>gia_use</th>\n      <th>KategorieObjektu_fixed</th>\n      <th>SkupinaObjektu_fixed</th>\n      <th>ObsahovaCast_fixed</th>\n    </tr>\n  </thead>\n  <tbody>\n    <tr>\n      <th>0</th>\n      <td>autobusova_zastavka-bod.xsd</td>\n      <td>autzas</td>\n      <td>AutobusovaZastavka</td>\n      <td>AutobusovaZastavkaType</td>\n      <td>[RefV, RefV, Ins, Upd, Del]</td>\n      <td>[cmn:GeometrieObjektuBodType]</td>\n      <td>0</td>\n      <td>0100000374</td>\n      <td>required</td>\n      <td>01</td>\n      <td>required</td>\n      <td>3</td>\n      <td>prohibited</td>\n      <td>1</td>\n      <td>prohibited</td>\n      <td>Dopravní stavby</td>\n      <td>Silniční doprava</td>\n      <td>DI</td>\n    </tr>\n    <tr>\n      <th>1</th>\n      <td>BP_plynovodni_site-plocha.xsd</td>\n      <td>bpplsi</td>\n      <td>BPPlynovodniSite</td>\n      <td>BPPlynovodniSiteType</td>\n      <td>[RefN, Ins, Upd, Del]</td>\n      <td>[cmn:GeometrieObjektuPlochaDTIType]</td>\n      <td>1</td>\n      <td>0100000290</td>\n      <td>required</td>\n      <td>03</td>\n      <td>required</td>\n      <td>2</td>\n      <td>prohibited</td>\n      <td>0</td>\n      <td>prohibited</td>\n      <td>Ochranná a bezpečnostní pásma</td>\n      <td>Ochranné a bezpečnostní pásmo</td>\n      <td>TI</td>\n    </tr>\n    <tr>\n      <th>2</th>\n      <td>BP_podzemniho_zasobniku_plynu-plocha.xsd</td>\n      <td>bpppol</td>\n      <td>BPPodzemnihoZasobnikuPlynu</td>\n      <td>BPPodzemnihoZasobnikuPlynuType</td>\n      <td>[RefN, Ins, Upd, Del]</td>\n      <td>[cmn:GeometrieObjektuPlochaDTIType]</td>\n      <td>1</td>\n      <td>0100000369</td>\n      <td>required</td>\n      <td>03</td>\n      <td>required</td>\n      <td>2</td>\n      <td>prohibited</td>\n      <td>0</td>\n      <td>prohibited</td>\n      <td>Ochranná a bezpečnostní pásma</td>\n      <td>Ochranné a bezpečnostní pásmo</td>\n      <td>TI</td>\n    </tr>\n    <tr>\n      <th>3</th>\n      <td>BP_zarizeni_PKO-plocha.xsd</td>\n      <td>bpzpko</td>\n      <td>BPZarizeniPKO</td>\n      <td>BPZarizeniPKOType</td>\n      <td>[RefN, Ins, Upd, Del]</td>\n      <td>[cmn:GeometrieObjektuPlochaDTIType]</td>\n      <td>1</td>\n      <td>0100000291</td>\n      <td>required</td>\n      <td>03</td>\n      <td>required</td>\n      <td>2</td>\n      <td>prohibited</td>\n      <td>0</td>\n      <td>prohibited</td>\n      <td>Ochranná a bezpečnostní pásma</td>\n      <td>Ochranné a bezpečnostní pásmo</td>\n      <td>TI</td>\n    </tr>\n    <tr>\n      <th>4</th>\n      <td>budova-defbod.xsd</td>\n      <td>buddef</td>\n      <td>BudovaDefinicniBod</td>\n      <td>BudovaDefinicniBodType</td>\n      <td>[RefV, Ins, Upd, Del]</td>\n      <td>[cmn:GeometrieObjektuBodType]</td>\n      <td>0</td>\n      <td>0100000001</td>\n      <td>required</td>\n      <td>04</td>\n      <td>required</td>\n      <td>3</td>\n      <td>prohibited</td>\n      <td>0</td>\n      <td>prohibited</td>\n      <td>Budovy</td>\n      <td>Objekt budovy</td>\n      <td>ZPS</td>\n    </tr>\n    <tr>\n      <th>...</th>\n      <td>...</td>\n      <td>...</td>\n      <td>...</td>\n      <td>...</td>\n      <td>...</td>\n      <td>...</td>\n      <td>...</td>\n      <td>...</td>\n      <td>...</td>\n      <td>...</td>\n      <td>...</td>\n      <td>...</td>\n      <td>...</td>\n      <td>...</td>\n      <td>...</td>\n      <td>...</td>\n      <td>...</td>\n      <td>...</td>\n    </tr>\n    <tr>\n      <th>425</th>\n      <td>zed-plocha.xsd</td>\n      <td>zedpol</td>\n      <td>ZedPlocha</td>\n      <td>ZedPlochaType</td>\n      <td>[RefV, Ins, Upd, Del]</td>\n      <td>[cmn:GeometrieObjektuPlochaZPSType]</td>\n      <td>0</td>\n      <td>0100000168</td>\n      <td>required</td>\n      <td>03</td>\n      <td>required</td>\n      <td>3</td>\n      <td>prohibited</td>\n      <td>0</td>\n      <td>prohibited</td>\n      <td>Součásti a příslušenství staveb</td>\n      <td>Stavba společná pro více skupin</td>\n      <td>ZPS</td>\n    </tr>\n    <tr>\n      <th>426</th>\n      <td>zeleznicni_navestidlo-bod.xsd</td>\n      <td>zelnav</td>\n      <td>ZeleznicniNavestidlo</td>\n      <td>ZeleznicniNavestidloType</td>\n      <td>[RefV, RefV, Ins, Upd, Del]</td>\n      <td>[cmn:GeometrieObjektuBodType]</td>\n      <td>0</td>\n      <td>0100000376</td>\n      <td>required</td>\n      <td>01</td>\n      <td>required</td>\n      <td>3</td>\n      <td>prohibited</td>\n      <td>1</td>\n      <td>prohibited</td>\n      <td>Dopravní stavby</td>\n      <td>Drážní doprava</td>\n      <td>DI</td>\n    </tr>\n    <tr>\n      <th>427</th>\n      <td>zeleznicni_prejezd-plocha.xsd</td>\n      <td>zprpol</td>\n      <td>ZeleznicniPrejezd</td>\n      <td>ZeleznicniPrejezdType</td>\n      <td>[RefV, RefV, Ins, Upd, Del]</td>\n      <td>[cmn:GeometrieObjektuPlochaDTIType]</td>\n      <td>0</td>\n      <td>0100000022</td>\n      <td>required</td>\n      <td>03</td>\n      <td>required</td>\n      <td>3</td>\n      <td>prohibited</td>\n      <td>1</td>\n      <td>prohibited</td>\n      <td>Dopravní stavby</td>\n      <td>Drážní doprava</td>\n      <td>DI</td>\n    </tr>\n    <tr>\n      <th>428</th>\n      <td>zemedelska_plocha-defbod.xsd</td>\n      <td>zepdef</td>\n      <td>ZemedelskaPlochaDefinicniBod</td>\n      <td>ZemedelskaPlochaDefinicniBodType</td>\n      <td>[RefV, Ins, Upd, Del]</td>\n      <td>[cmn:GeometrieObjektuBodType]</td>\n      <td>0</td>\n      <td>0100000207</td>\n      <td>required</td>\n      <td>04</td>\n      <td>required</td>\n      <td>3</td>\n      <td>prohibited</td>\n      <td>0</td>\n      <td>prohibited</td>\n      <td>Vodstvo, vegetace a terén</td>\n      <td>Hospodářská plocha</td>\n      <td>ZPS</td>\n    </tr>\n    <tr>\n      <th>429</th>\n      <td>zemedelska_plocha-plocha.xsd</td>\n      <td>zeppol</td>\n      <td>ZemedelskaPlochaPlocha</td>\n      <td>ZemedelskaPlochaPlochaType</td>\n      <td>[RefV, Ins, Upd, Del]</td>\n      <td>[cmn:GeometrieObjektuPlochaZPSType]</td>\n      <td>0</td>\n      <td>0100000207</td>\n      <td>required</td>\n      <td>03</td>\n      <td>required</td>\n      <td>3</td>\n      <td>prohibited</td>\n      <td>0</td>\n      <td>prohibited</td>\n      <td>Vodstvo, vegetace a terén</td>\n      <td>Hospodářská plocha</td>\n      <td>ZPS</td>\n    </tr>\n  </tbody>\n</table>\n<p>430 rows × 18 columns</p>\n</div>"
     },
     "execution_count": 31,
     "metadata": {},
     "output_type": "execute_result"
    }
   ],
   "source": [
    "def process_flag_value(data, element, matched_column, flag, is_unique=False):\n",
    "    \"\"\"\n",
    "    Extracts the value of a specific attribute (flag) from an XML element and stores it in the data dictionary.\n",
    "    \n",
    "    Parameters:\n",
    "    - data: dict where extracted values are stored.\n",
    "    - element: XML element being processed.\n",
    "    - matched_column: base name used to construct the output column name.\n",
    "    - flag: the attribute name to extract from the element.\n",
    "    - is_unique: if True, prevents duplicate values in the list for this column.\n",
    "    \"\"\"\n",
    "    val = element.get(flag)\n",
    "    if not val:\n",
    "        return\n",
    "\n",
    "    output_column_name = f\"{matched_column}_{flag}\"\n",
    "\n",
    "    if output_column_name not in data:\n",
    "        data[output_column_name] = [val]\n",
    "    else:\n",
    "        if not isinstance(data[output_column_name], list):\n",
    "            data[output_column_name] = [data[output_column_name]]\n",
    "\n",
    "        if is_unique and val in data[output_column_name]:\n",
    "            return\n",
    "\n",
    "        data[output_column_name].append(val)\n",
    "\n",
    "def order_dataframe_columns_by_config(df, config, element_types):\n",
    "    \"\"\"\n",
    "    Orders DataFrame columns based on the config and element_types definition.\n",
    "    Columns from config (e.g. filename, namespace) and element attributes/flags\n",
    "    will appear first, in the defined order. Any remaining columns are added at the end.\n",
    "    \"\"\"\n",
    "    ordered_cols = []\n",
    "    element_keys_order = list(config[\"element_types\"].keys())\n",
    "\n",
    "    # Add basic config-defined columns\n",
    "    for key in [\"filename\", \"namespace\", \"name\", \"type\"]:\n",
    "        if config.get(key):\n",
    "            ordered_cols.append(key)\n",
    "\n",
    "    # Add columns defined in element_types\n",
    "    for col in element_keys_order:\n",
    "        desc = element_types[col]\n",
    "        base = col.split(\":\")[-1]\n",
    "\n",
    "        # Add existence flag\n",
    "        if desc.get(\"exist\"):\n",
    "            ordered_cols.append(base)\n",
    "\n",
    "        # Add element flags like required, prohibited, etc.\n",
    "        for flag, val in desc.items():\n",
    "            if flag in {\"exist\", \"match\"}:\n",
    "                continue\n",
    "            if val is True or val == \"unique\":\n",
    "                ordered_cols.append(f\"{base}_{flag}\")\n",
    "\n",
    "        # Add attribute columns\n",
    "        if \"attributes\" in desc:\n",
    "            for attr, props in desc[\"attributes\"].items():\n",
    "                for prop in props:\n",
    "                    ordered_cols.append(f\"{attr}_{prop}\")\n",
    "\n",
    "    # Add any remaining columns from DataFrame\n",
    "    remaining = [c for c in df.columns if c not in ordered_cols]\n",
    "    return df.reindex(columns=ordered_cols + remaining)\n",
    "\n",
    "\n",
    "# Load JSON config\n",
    "with open(\"../tests/data/config_1.5.0.json\", \"r\", encoding=\"utf-8\") as f:\n",
    "    # config = json.load(f)\n",
    "    config = json.load(f)\n",
    "\n",
    "# Path to the folder with extracted .xsd files\n",
    "xsd_objects_path = output_path / \"xsd\" / \"objekty\"\n",
    "records = []\n",
    "element_types = config[\"element_types\"]\n",
    "\n",
    "for file_path in xsd_objects_path.glob(\"*.xsd\"):\n",
    "    try:\n",
    "        tree = etree.parse(str(file_path))\n",
    "        root = tree.getroot()\n",
    "        namespace = root.attrib.get(\"targetNamespace\", \"\")\n",
    "\n",
    "        data = {}\n",
    "        if config.get(\"filename\") is True:\n",
    "            data[\"filename\"] = file_path.name\n",
    "        if config.get(\"namespace\") is True:\n",
    "            data[\"namespace\"] = namespace\n",
    "\n",
    "        # Get top-level element\n",
    "        if config.get(\"name\") is True or config.get(\"type\") is True:\n",
    "            top_level_elems = root.xpath('./*[local-name()=\"element\"]')\n",
    "            main_elem = top_level_elems[0]\n",
    "            if config.get(\"name\") is True:\n",
    "                data[\"name\"] = main_elem.get(\"name\", \"\")\n",
    "            if config.get(\"type\") is True:\n",
    "                data[\"type\"] = main_elem.get(\"type\", \"\")\n",
    "        \n",
    "        # Initialize the value of exist to 0 when asking for existence\n",
    "        for column_name, description in element_types.items():\n",
    "            if description.get(\"exist\") is True:\n",
    "                cleaned_column_name = column_name.split(\":\")[-1]\n",
    "                data[cleaned_column_name] = 0\n",
    "\n",
    "        all_elements = root.xpath(\".//*[local-name()='element']\")\n",
    "        for element in all_elements:\n",
    "                etype = None\n",
    "                match_key = None\n",
    "                matched_column = None\n",
    "                # Find \"match\" values from config file\n",
    "                for column_name, description in element_types.items():\n",
    "                    config_match = description.get(\"match\")\n",
    "                    # if value of \"match\" is not given, use \"name\"\n",
    "                    if not config_match:\n",
    "                        config_match = \"name\"\n",
    "                        \n",
    "                    # Try to find element match\n",
    "                    match_element = element.get(config_match)\n",
    "                    # if it is the right element save description, column_name and match value\n",
    "                    if match_element == column_name:\n",
    "                        etype = description\n",
    "                        matched_column = column_name.split(\":\")[-1]\n",
    "                        match_key = config_match\n",
    "                        break\n",
    "                        \n",
    "                if not etype:\n",
    "                    # skip if matching element type wasn't found\n",
    "                    continue\n",
    "                # Handle attributes\n",
    "                if \"attributes\" in etype:\n",
    "                    # Iterate over attributes and their properties\n",
    "                    for attr_name, props in etype[\"attributes\"].items():\n",
    "                        for prop in props:\n",
    "                            # find values using xpath\n",
    "                            val = element.xpath(f\".//*[local-name()='attribute' and @{match_key}='{attr_name}']/@{prop}\")\n",
    "                            # save to output data\n",
    "                            if val:\n",
    "                                data[f\"{attr_name}_{prop}\"] = val[0]\n",
    "                \n",
    "                # Handle existence of element\n",
    "                if etype.get(\"exist\") is True:\n",
    "                    cleaned_matched_column = matched_column.split(\":\")[-1]\n",
    "                    data[cleaned_matched_column] = 1\n",
    "                \n",
    "                # Special case for geometry in version 1.4.3 without explicit 'type' attribute\n",
    "                if matched_column ==\"GeometrieObjektu\" and not element.get(\"type\"):\n",
    "                    # Find all child <element> nodes with a 'ref' attribute\n",
    "                    ref_values = element.xpath(\".//*[local-name()='element' and @ref]/@ref\")\n",
    "                    if ref_values:\n",
    "                        data[\"GeometrieObjektu\"] = ref_values\n",
    "                \n",
    "                # Handle asking directly for element properties\n",
    "                true_flags = [key for key, value in etype.items() if value is True]\n",
    "                unique_flags = [key for key, value in etype.items() if value ==\"unique\"]\n",
    "                unique_cols = list(f\"{matched_column}_{flag}\" for flag in unique_flags)\n",
    "                for flag in true_flags:\n",
    "                    process_flag_value(data, element, matched_column, flag, is_unique=False)\n",
    "\n",
    "                for flag in unique_flags:\n",
    "                    process_flag_value(data, element, matched_column, flag, is_unique=True)\n",
    "\n",
    "                for col in list(data):\n",
    "                    if col in unique_cols:\n",
    "                        if not isinstance(data[col], list):\n",
    "                            data[col] = [data[col]]\n",
    "                    else:\n",
    "                        if isinstance(data[col], list) and len(data[col]) == 1 and col not in (\"GeometrieObjektu_type\",\"GeometrieObjektu\"):\n",
    "                            data[col] = data[col][0]\n",
    "\n",
    "        records.append(data)\n",
    "\n",
    "    except Exception as e:\n",
    "        print(f\"[Error] {file_path.name}: {e}\")\n",
    "        raise\n",
    "\n",
    "# Output DataFrame\n",
    "df_str1 = pd.DataFrame(records, dtype=object)\n",
    "df_str1 = order_dataframe_columns_by_config(df_str1, config, element_types)\n",
    "output_csv_path = output_path.parent / \"detailed_1.5.0.csv\"\n",
    "output_csv_path.parent.mkdir(parents=True, exist_ok=True)\n",
    "df_str1.to_csv(output_csv_path, index=False)\n",
    "df_str1"
   ],
   "metadata": {
    "collapsed": false,
    "ExecuteTime": {
     "end_time": "2025-06-23T11:31:28.354654Z",
     "start_time": "2025-06-23T11:31:26.351445600Z"
    }
   },
   "id": "cbbb9158b675ef96"
  }
 ],
 "metadata": {
  "kernelspec": {
   "display_name": "Python 3 (ipykernel)",
   "language": "python",
   "name": "python3"
  },
  "language_info": {
   "codemirror_mode": {
    "name": "ipython",
    "version": 3
   },
   "file_extension": ".py",
   "mimetype": "text/x-python",
   "name": "python",
   "nbconvert_exporter": "python",
   "pygments_lexer": "ipython3",
   "version": "3.12.10"
  }
 },
 "nbformat": 4,
 "nbformat_minor": 5
}
