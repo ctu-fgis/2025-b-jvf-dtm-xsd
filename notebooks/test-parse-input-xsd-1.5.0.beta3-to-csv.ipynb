{
 "cells": [
  {
   "cell_type": "markdown",
   "id": "776380a8-25f5-4ba1-8744-cb2a393081ae",
   "metadata": {},
   "source": [
    "# XSD to CSV Conversion Testing both versions"
   ]
  },
  {
   "cell_type": "markdown",
   "id": "e1195385-adce-4e31-8c74-cd422d8aa363",
   "metadata": {},
   "source": [
    "### Import needed libraries\n",
    "\n",
    "- `zipfile` – for working with ZIP archives\n",
    "- `json` – for working with jsons\n",
    "- `pandas` – for working with tables and dataframes (`pip install pandas`)\n",
    "- `lxml.etree` – to parse and read XML/XSD structure (`pip install lxml`)\n",
    "- `pathlib.Path` – for path handling\n",
    "\n",
    "Make sure to install missing ones using `pip` if needed."
   ]
  },
  {
   "cell_type": "code",
   "execution_count": 119,
   "id": "a9e56d19-9ef9-451a-820d-1dfe3b202115",
   "metadata": {
    "ExecuteTime": {
     "end_time": "2025-06-25T23:26:35.653768300Z",
     "start_time": "2025-06-25T23:26:35.648746700Z"
    }
   },
   "outputs": [],
   "source": [
    "import zipfile\n",
    "import json\n",
    "import pandas as pd\n",
    "from lxml import etree\n",
    "from pathlib import Path"
   ]
  },
  {
   "cell_type": "markdown",
   "id": "4cb32fef-c02b-4a93-8969-42913f5b645a",
   "metadata": {},
   "source": [
    "### version 1.4.3 - Set paths for input ZIP and output folder\n",
    "\n",
    "This cell sets:\n",
    "- `input_zip_path`: path to the input ZIP file with XSDs\n",
    "- `output_path`: where to extract files\n",
    "\n",
    "If the folder doesn't exist, it will be created."
   ]
  },
  {
   "cell_type": "code",
   "execution_count": 103,
   "id": "e7b470be-ec37-4aa4-80ab-338e63d70f7b",
   "metadata": {
    "ExecuteTime": {
     "end_time": "2025-06-25T22:39:03.217866700Z",
     "start_time": "2025-06-25T22:39:03.196124700Z"
    }
   },
   "outputs": [],
   "source": [
    "# Define the path to the input zip file and output directory\n",
    "input_zip_path = Path(\"../tests/data/JVF_DTM_143_XSD.zip\")\n",
    "output_path = Path(\"../tests/output/JVF_DTM_143_XSD\")\n",
    "\n",
    "# Create the output directory if it doesn't exist\n",
    "output_path.mkdir(parents=True, exist_ok=True)"
   ]
  },
  {
   "cell_type": "markdown",
   "source": [],
   "metadata": {
    "collapsed": false
   },
   "id": "35067110fab2bfbf"
  },
  {
   "cell_type": "markdown",
   "source": [
    "### version 1.5.0 - Set paths for input ZIP and output folder\n",
    "\n",
    "This cell sets:\n",
    "- `input_zip_path`: path to the input ZIP file with XSDs\n",
    "- `output_path`: where to extract files\n",
    "\n",
    "If the folder doesn't exist, it will be created."
   ],
   "metadata": {
    "collapsed": false
   },
   "id": "9862743cb3c820e"
  },
  {
   "cell_type": "code",
   "execution_count": 87,
   "outputs": [],
   "source": [
    "# Define the path to the input zip file and output directory\n",
    "input_zip_path = Path(\"../tests/data/JVF_DTM_150_beta3_XSD.zip\")\n",
    "output_path = Path(\"../tests/output/JVF_DTM_150_beta3_XSD\")\n",
    "\n",
    "# Create the output directory if it doesn't exist\n",
    "output_path.mkdir(parents=True, exist_ok=True)"
   ],
   "metadata": {
    "collapsed": false,
    "ExecuteTime": {
     "end_time": "2025-06-25T21:57:26.815009500Z",
     "start_time": "2025-06-25T21:57:26.804074300Z"
    }
   },
   "id": "bc7d102e13ad7613"
  },
  {
   "cell_type": "markdown",
   "id": "0eda1e04-6da7-48a8-ada7-a41dbd9bfca6",
   "metadata": {},
   "source": [
    "## Unzip the input file\n",
    "\n",
    "Extracts the ZIP archive to the output folder and prints the extracted file names."
   ]
  },
  {
   "cell_type": "code",
   "execution_count": 23,
   "id": "e356362a-3dd3-4b01-8391-51fb2e5486dd",
   "metadata": {
    "ExecuteTime": {
     "end_time": "2025-06-23T10:06:45.869048400Z",
     "start_time": "2025-06-23T10:06:45.573868400Z"
    }
   },
   "outputs": [
    {
     "name": "stdout",
     "output_type": "stream",
     "text": [
      "Extracted to: ..\\tests\\output\\JVF_DTM_150_beta3_XSD\n",
      "['xsd']\n"
     ]
    }
   ],
   "source": [
    "# Extract the zip file\n",
    "with zipfile.ZipFile(input_zip_path, 'r') as zip_ref:\n",
    "    zip_ref.extractall(output_path)\n",
    "\n",
    "# Show extracted files\n",
    "print(f\"Extracted to: {output_path}\")\n",
    "print(sorted(f.name for f in output_path.iterdir()))"
   ]
  },
  {
   "cell_type": "markdown",
   "source": [
    "## Summary CSV\n",
    "* can process both versions\n",
    "* This cell parses all `.xsd` files in the `xsd/objekty` directory and extracts object definitions from the `ZaznamyObjektu` element:\n",
    "\n",
    "- **Version 1.5.0**: Uses `ref=\"ZaznamObjektu\"` and collects types via `substitutionGroup`.\n",
    "- **Version 1.4.3**: Extracts elements directly from the named `ZaznamObjektu`.\n",
    "\n",
    "The script collects relevant attributes (`filename`, `type`, `ref`, `minOccurs`, etc.), builds a `DataFrame`, and saves it as summary csv."
   ],
   "metadata": {
    "collapsed": false
   },
   "id": "ef2bfdb877b030ba"
  },
  {
   "cell_type": "code",
   "execution_count": 88,
   "outputs": [
    {
     "data": {
      "text/plain": "                          filename  type                   parent_name  \\\n0      autobusova_zastavka-bod.xsd  RefV  SpolecneAtributyVsechObjektu   \n1      autobusova_zastavka-bod.xsd  RefV     SpolecneAtributyObjektuDI   \n2      autobusova_zastavka-bod.xsd  RefV              GeometrieObjektu   \n3      autobusova_zastavka-bod.xsd  RefV  SpolecneAtributyVsechObjektu   \n4      autobusova_zastavka-bod.xsd  RefV     SpolecneAtributyObjektuDI   \n...                            ...   ...                           ...   \n7962  zemedelska_plocha-plocha.xsd   Upd              GeometrieObjektu   \n7963  zemedelska_plocha-plocha.xsd   Del  SpolecneAtributyVsechObjektu   \n7964  zemedelska_plocha-plocha.xsd   Del    SpolecneAtributyObjektuZPS   \n7965  zemedelska_plocha-plocha.xsd   Del                          None   \n7966  zemedelska_plocha-plocha.xsd   Del              GeometrieObjektu   \n\n                                  parent_type                    nazev  \\\n0     atr:SpolecneAtributyVsechObjektuRefType                     None   \n1        atr:SpolecneAtributyObjektuDIRefType                     None   \n2                 cmn:GeometrieObjektuBodType                     None   \n3     atr:SpolecneAtributyVsechObjektuRefType                     None   \n4        atr:SpolecneAtributyObjektuDIRefType                     None   \n...                                       ...                      ...   \n7962        cmn:GeometrieObjektuPlochaZPSType                     None   \n7963  atr:SpolecneAtributyVsechObjektuDelType                     None   \n7964    atr:SpolecneAtributyObjektuZPSDelType                     None   \n7965                                     None  atr:TypZemedelskePlochy   \n7966        cmn:GeometrieObjektuPlochaZPSType                     None   \n\n     minOccurs choice  \n0         None   None  \n1         None   None  \n2         None   None  \n3         None   None  \n4         None   None  \n...        ...    ...  \n7962         0   None  \n7963      None   None  \n7964         0   None  \n7965         0   None  \n7966         0   None  \n\n[7967 rows x 7 columns]",
      "text/html": "<div>\n<style scoped>\n    .dataframe tbody tr th:only-of-type {\n        vertical-align: middle;\n    }\n\n    .dataframe tbody tr th {\n        vertical-align: top;\n    }\n\n    .dataframe thead th {\n        text-align: right;\n    }\n</style>\n<table border=\"1\" class=\"dataframe\">\n  <thead>\n    <tr style=\"text-align: right;\">\n      <th></th>\n      <th>filename</th>\n      <th>type</th>\n      <th>parent_name</th>\n      <th>parent_type</th>\n      <th>nazev</th>\n      <th>minOccurs</th>\n      <th>choice</th>\n    </tr>\n  </thead>\n  <tbody>\n    <tr>\n      <th>0</th>\n      <td>autobusova_zastavka-bod.xsd</td>\n      <td>RefV</td>\n      <td>SpolecneAtributyVsechObjektu</td>\n      <td>atr:SpolecneAtributyVsechObjektuRefType</td>\n      <td>None</td>\n      <td>None</td>\n      <td>None</td>\n    </tr>\n    <tr>\n      <th>1</th>\n      <td>autobusova_zastavka-bod.xsd</td>\n      <td>RefV</td>\n      <td>SpolecneAtributyObjektuDI</td>\n      <td>atr:SpolecneAtributyObjektuDIRefType</td>\n      <td>None</td>\n      <td>None</td>\n      <td>None</td>\n    </tr>\n    <tr>\n      <th>2</th>\n      <td>autobusova_zastavka-bod.xsd</td>\n      <td>RefV</td>\n      <td>GeometrieObjektu</td>\n      <td>cmn:GeometrieObjektuBodType</td>\n      <td>None</td>\n      <td>None</td>\n      <td>None</td>\n    </tr>\n    <tr>\n      <th>3</th>\n      <td>autobusova_zastavka-bod.xsd</td>\n      <td>RefV</td>\n      <td>SpolecneAtributyVsechObjektu</td>\n      <td>atr:SpolecneAtributyVsechObjektuRefType</td>\n      <td>None</td>\n      <td>None</td>\n      <td>None</td>\n    </tr>\n    <tr>\n      <th>4</th>\n      <td>autobusova_zastavka-bod.xsd</td>\n      <td>RefV</td>\n      <td>SpolecneAtributyObjektuDI</td>\n      <td>atr:SpolecneAtributyObjektuDIRefType</td>\n      <td>None</td>\n      <td>None</td>\n      <td>None</td>\n    </tr>\n    <tr>\n      <th>...</th>\n      <td>...</td>\n      <td>...</td>\n      <td>...</td>\n      <td>...</td>\n      <td>...</td>\n      <td>...</td>\n      <td>...</td>\n    </tr>\n    <tr>\n      <th>7962</th>\n      <td>zemedelska_plocha-plocha.xsd</td>\n      <td>Upd</td>\n      <td>GeometrieObjektu</td>\n      <td>cmn:GeometrieObjektuPlochaZPSType</td>\n      <td>None</td>\n      <td>0</td>\n      <td>None</td>\n    </tr>\n    <tr>\n      <th>7963</th>\n      <td>zemedelska_plocha-plocha.xsd</td>\n      <td>Del</td>\n      <td>SpolecneAtributyVsechObjektu</td>\n      <td>atr:SpolecneAtributyVsechObjektuDelType</td>\n      <td>None</td>\n      <td>None</td>\n      <td>None</td>\n    </tr>\n    <tr>\n      <th>7964</th>\n      <td>zemedelska_plocha-plocha.xsd</td>\n      <td>Del</td>\n      <td>SpolecneAtributyObjektuZPS</td>\n      <td>atr:SpolecneAtributyObjektuZPSDelType</td>\n      <td>None</td>\n      <td>0</td>\n      <td>None</td>\n    </tr>\n    <tr>\n      <th>7965</th>\n      <td>zemedelska_plocha-plocha.xsd</td>\n      <td>Del</td>\n      <td>None</td>\n      <td>None</td>\n      <td>atr:TypZemedelskePlochy</td>\n      <td>0</td>\n      <td>None</td>\n    </tr>\n    <tr>\n      <th>7966</th>\n      <td>zemedelska_plocha-plocha.xsd</td>\n      <td>Del</td>\n      <td>GeometrieObjektu</td>\n      <td>cmn:GeometrieObjektuPlochaZPSType</td>\n      <td>None</td>\n      <td>0</td>\n      <td>None</td>\n    </tr>\n  </tbody>\n</table>\n<p>7967 rows × 7 columns</p>\n</div>"
     },
     "execution_count": 88,
     "metadata": {},
     "output_type": "execute_result"
    }
   ],
   "source": [
    "# Path to the folder with extracted XSD files\n",
    "xsd_objects_path = output_path / \"xsd\" / \"objekty\"\n",
    "\n",
    "records = []\n",
    "seen_global = set()  # Track all (filename, nazev) pairs to avoid duplicates\n",
    "\n",
    "# Loop through all .xsd files in the directory\n",
    "for file_path in xsd_objects_path.glob(\"*.xsd\"):\n",
    "    # try:\n",
    "        # Parse the XSD file into an XML tree\n",
    "        tree = etree.parse(str(file_path))\n",
    "        root = tree.getroot()\n",
    "\n",
    "        # Find all element named ZaznamyObjektu\n",
    "        zaznamy_elements = root.xpath(\".//*[local-name()='element'][@name='ZaznamyObjektu']\")\n",
    "        \n",
    "        # iterate over elements named ZaznamyObjektu, but there should be just one\n",
    "        for zaznamy_elem in zaznamy_elements:\n",
    "            nested_elements = zaznamy_elem.xpath(\".//*[local-name()='element']\")\n",
    "            \n",
    "            # Iterate over elements inside ZaznamyObjektu\n",
    "            for element in nested_elements:\n",
    "                \n",
    "                # If ZaznamObjektu is ref, that is the case for version 1.5.0\n",
    "                if element.get(\"ref\") == \"ZaznamObjektu\":\n",
    "                    \n",
    "                    # Get the type for all types of ZaznamObjektu ()\n",
    "                    types = root.xpath(\"./*[local-name()='element'][@substitutionGroup='ZaznamObjektu']/@type\")\n",
    "                    # Find complexType with name coresponding with one of the types\n",
    "                    matching_complex_types = []\n",
    "\n",
    "                    for ctype in types:\n",
    "                        complex_types = root.xpath(f\".//*[local-name()='complexType'][@name='{ctype}']\")\n",
    "                        matching_complex_types.extend(complex_types)\n",
    "                    \n",
    "                    for mctype in matching_complex_types:\n",
    "                        type = mctype.get(\"name\")\n",
    "                        elems = mctype.xpath(\".//*[local-name()='element' and not(@name='AtributyObjektu')]\")\n",
    "                        for el in elems:\n",
    "                            parent_name = el.get(\"name\")\n",
    "                            parent_type = el.get(\"type\")\n",
    "                            nazev = el.get(\"ref\")\n",
    "                            minOccurs = el.get(\"minOccurs\")\n",
    "                            is_choice = '1' if el.xpath(\"ancestor::*[local-name()='choice']\") else None\n",
    "                            records.append({\n",
    "                                            \"filename\": file_path.name,\n",
    "                                            \"type\": type,\n",
    "                                            \"parent_name\": parent_name,\n",
    "                                            \"parent_type\": parent_type,\n",
    "                                            \"nazev\": nazev,\n",
    "                                            \"minOccurs\": minOccurs,\n",
    "                                            \"choice\": is_choice\n",
    "                                            })\n",
    "                            \n",
    "                    break\n",
    "                    \n",
    "                # If ZaznamObjektu is name, that is the case for version 1.4.3\n",
    "                elif element.get(\"name\") == \"ZaznamObjektu\":\n",
    "                    refs = []\n",
    "                    gml_group = []\n",
    "                    mOall = []\n",
    "                    check = True\n",
    "                    # Find all elements that have defined reference that is not cmn:ZapisObjektu\n",
    "                    for ref_el in element.xpath(\".//*[local-name()='element'][@ref and not(@ref='cmn:ZapisObjektu')]\"):\n",
    "                        ref_val = ref_el.get(\"ref\")\n",
    "                        # Handle geometry and add to list\n",
    "                        if ref_val.startswith(\"gml:\"):\n",
    "                            gml_group.append(ref_val)\n",
    "                            # finding gml parent just once for each file\n",
    "                            if check:\n",
    "                                geom_parent = ref_el.xpath(\"ancestor::*[local-name()='element'][@name='GeometrieObjektu']\")\n",
    "                                # minOccurs of GeometrieObjektu\n",
    "                                minOccurs = geom_parent[0].get(\"minOccurs\")\n",
    "                                mOall.append(minOccurs)\n",
    "                                check = False\n",
    "                        else:\n",
    "                            # minOccurs of other output elements\n",
    "                            minOccurs = ref_el.get(\"minOccurs\")\n",
    "                            mOall.append(minOccurs)\n",
    "                            if gml_group:\n",
    "                                refs.append(gml_group)\n",
    "                                gml_group = []\n",
    "\n",
    "                            refs.append(ref_val)\n",
    "\n",
    "                    if gml_group:\n",
    "                        refs.append(gml_group)\n",
    "                        \n",
    "                    # Add everything to output\n",
    "                    for item, m in zip(refs, mOall):\n",
    "                        records.append({\n",
    "                            \"filename\": file_path.name,\n",
    "                            \"nazev\": item,\n",
    "                            \"minOccurs\": m\n",
    "                        })\n",
    "                    break\n",
    "                \n",
    "# Create DataFrame from extracted records\n",
    "df_str2 = pd.DataFrame(records)\n",
    "\n",
    "# Save the DataFrame to CSV\n",
    "df_str2.to_csv(output_path.parent / \"summary_1.5.0.csv\", index=False)\n",
    "\n",
    "# Display the resulting DataFrame\n",
    "df_str2"
   ],
   "metadata": {
    "collapsed": false,
    "ExecuteTime": {
     "end_time": "2025-06-25T21:57:34.216023700Z",
     "start_time": "2025-06-25T21:57:31.483552300Z"
    }
   },
   "id": "b44839bcc19f18b5"
  },
  {
   "cell_type": "markdown",
   "id": "8f9d78e81fdf2b4f",
   "metadata": {
    "collapsed": false
   },
   "source": [
    "## Detailed CSV\n",
    "\n",
    "* This cell loads a JSON config (config_1.5.0.json or config_1.4.3.json) and parses `.xsd` files in `xsd/objekty` to extract detailed metadata:\n",
    "- Matches elements based on config file.\n",
    "- Extracts flags, attributes, and existence markers (e.g., `minOccurs`, `type`)."
   ]
  },
  {
   "cell_type": "code",
   "execution_count": 120,
   "outputs": [
    {
     "data": {
      "text/plain": "                                     filename namespace  \\\n0               BP_plynovodni_site-plocha.xsd    bpplsi   \n1    BP_podzemniho_zasobniku_plynu-plocha.xsd    bpppol   \n2                  BP_zarizeni_PKO-plocha.xsd    bpzpko   \n3                           budova-defbod.xsd    buddef   \n4                           budova-plocha.xsd    budpol   \n..                                        ...       ...   \n353                             zed-linie.xsd    zedlin   \n354                            zed-plocha.xsd    zedpol   \n355             zeleznicni_prejezd-plocha.xsd    zprpol   \n356              zemedelska_plocha-defbod.xsd    zepdef   \n357              zemedelska_plocha-plocha.xsd    zeppol   \n\n                             name                                     type  \\\n0                BPPlynovodniSite              bpplsi:BPPlynovodniSiteType   \n1      BPPodzemnihoZasobnikuPlynu    bpppol:BPPodzemnihoZasobnikuPlynuType   \n2                   BPZarizeniPKO                 bpzpko:BPZarizeniPKOType   \n3              BudovaDefinicniBod            buddef:BudovaDefinicniBodType   \n4                    BudovaPlocha                  budpol:BudovaPlochaType   \n..                            ...                                      ...   \n353                      ZedLinie                      zedlin:ZedLinieType   \n354                     ZedPlocha                     zedpol:ZedPlochaType   \n355             ZeleznicniPrejezd             zprpol:ZeleznicniPrejezdType   \n356  ZemedelskaPlochaDefinicniBod  zepdef:ZemedelskaPlochaDefinicniBodType   \n357        ZemedelskaPlochaPlocha        zeppol:ZemedelskaPlochaPlochaType   \n\n    code_base_fixed code_base_use code_suffix_fixed code_suffix_use  \\\n0        0100000290      required                03        required   \n1        0100000369      required                03        required   \n2        0100000291      required                03        required   \n3        0100000001      required                04        required   \n4        0100000001      required                03        required   \n..              ...           ...               ...             ...   \n353      0100000168      required                02        required   \n354      0100000168      required                03        required   \n355      0100000022      required                03        required   \n356      0100000207      required                04        required   \n357      0100000207      required                03        required   \n\n              KategorieObjektu_fixed             SkupinaObjektu_fixed  \\\n0      Ochranná a bezpečnostní pásma    Ochranné a bezpečnostní pásmo   \n1      Ochranná a bezpečnostní pásma    Ochranné a bezpečnostní pásmo   \n2      Ochranná a bezpečnostní pásma    Ochranné a bezpečnostní pásmo   \n3                             Budovy                    Objekt budovy   \n4                             Budovy                    Objekt budovy   \n..                               ...                              ...   \n353  Součásti a příslušenství staveb  Stavba společná pro více skupin   \n354  Součásti a příslušenství staveb  Stavba společná pro více skupin   \n355                  Dopravní stavby                   Drážní doprava   \n356        Vodstvo, vegetace a terén               Hospodářská plocha   \n357        Vodstvo, vegetace a terén               Hospodářská plocha   \n\n    ObsahovaCast_fixed OblastObjektuKI OblastObjektuKI_minOccurs  \\\n0                   TI               1                         0   \n1                   TI               1                         0   \n2                   TI               1                         0   \n3                  ZPS               0                       NaN   \n4                  ZPS               0                       NaN   \n..                 ...             ...                       ...   \n353                ZPS               0                       NaN   \n354                ZPS               0                       NaN   \n355                 DI               0                       NaN   \n356                ZPS               0                       NaN   \n357                ZPS               0                       NaN   \n\n    GeometrieObjektu_minOccurs                               GeometrieObjektu  \n0                            0                          [gml:surfaceProperty]  \n1                            0                          [gml:surfaceProperty]  \n2                            0                          [gml:surfaceProperty]  \n3                          NaN                            [gml:pointProperty]  \n4                          NaN  [gml:surfaceProperty, gml:multiCurveProperty]  \n..                         ...                                            ...  \n353                        NaN                            [gml:curveProperty]  \n354                        NaN  [gml:surfaceProperty, gml:multiCurveProperty]  \n355                        NaN                          [gml:surfaceProperty]  \n356                        NaN                            [gml:pointProperty]  \n357                        NaN  [gml:surfaceProperty, gml:multiCurveProperty]  \n\n[358 rows x 15 columns]",
      "text/html": "<div>\n<style scoped>\n    .dataframe tbody tr th:only-of-type {\n        vertical-align: middle;\n    }\n\n    .dataframe tbody tr th {\n        vertical-align: top;\n    }\n\n    .dataframe thead th {\n        text-align: right;\n    }\n</style>\n<table border=\"1\" class=\"dataframe\">\n  <thead>\n    <tr style=\"text-align: right;\">\n      <th></th>\n      <th>filename</th>\n      <th>namespace</th>\n      <th>name</th>\n      <th>type</th>\n      <th>code_base_fixed</th>\n      <th>code_base_use</th>\n      <th>code_suffix_fixed</th>\n      <th>code_suffix_use</th>\n      <th>KategorieObjektu_fixed</th>\n      <th>SkupinaObjektu_fixed</th>\n      <th>ObsahovaCast_fixed</th>\n      <th>OblastObjektuKI</th>\n      <th>OblastObjektuKI_minOccurs</th>\n      <th>GeometrieObjektu_minOccurs</th>\n      <th>GeometrieObjektu</th>\n    </tr>\n  </thead>\n  <tbody>\n    <tr>\n      <th>0</th>\n      <td>BP_plynovodni_site-plocha.xsd</td>\n      <td>bpplsi</td>\n      <td>BPPlynovodniSite</td>\n      <td>bpplsi:BPPlynovodniSiteType</td>\n      <td>0100000290</td>\n      <td>required</td>\n      <td>03</td>\n      <td>required</td>\n      <td>Ochranná a bezpečnostní pásma</td>\n      <td>Ochranné a bezpečnostní pásmo</td>\n      <td>TI</td>\n      <td>1</td>\n      <td>0</td>\n      <td>0</td>\n      <td>[gml:surfaceProperty]</td>\n    </tr>\n    <tr>\n      <th>1</th>\n      <td>BP_podzemniho_zasobniku_plynu-plocha.xsd</td>\n      <td>bpppol</td>\n      <td>BPPodzemnihoZasobnikuPlynu</td>\n      <td>bpppol:BPPodzemnihoZasobnikuPlynuType</td>\n      <td>0100000369</td>\n      <td>required</td>\n      <td>03</td>\n      <td>required</td>\n      <td>Ochranná a bezpečnostní pásma</td>\n      <td>Ochranné a bezpečnostní pásmo</td>\n      <td>TI</td>\n      <td>1</td>\n      <td>0</td>\n      <td>0</td>\n      <td>[gml:surfaceProperty]</td>\n    </tr>\n    <tr>\n      <th>2</th>\n      <td>BP_zarizeni_PKO-plocha.xsd</td>\n      <td>bpzpko</td>\n      <td>BPZarizeniPKO</td>\n      <td>bpzpko:BPZarizeniPKOType</td>\n      <td>0100000291</td>\n      <td>required</td>\n      <td>03</td>\n      <td>required</td>\n      <td>Ochranná a bezpečnostní pásma</td>\n      <td>Ochranné a bezpečnostní pásmo</td>\n      <td>TI</td>\n      <td>1</td>\n      <td>0</td>\n      <td>0</td>\n      <td>[gml:surfaceProperty]</td>\n    </tr>\n    <tr>\n      <th>3</th>\n      <td>budova-defbod.xsd</td>\n      <td>buddef</td>\n      <td>BudovaDefinicniBod</td>\n      <td>buddef:BudovaDefinicniBodType</td>\n      <td>0100000001</td>\n      <td>required</td>\n      <td>04</td>\n      <td>required</td>\n      <td>Budovy</td>\n      <td>Objekt budovy</td>\n      <td>ZPS</td>\n      <td>0</td>\n      <td>NaN</td>\n      <td>NaN</td>\n      <td>[gml:pointProperty]</td>\n    </tr>\n    <tr>\n      <th>4</th>\n      <td>budova-plocha.xsd</td>\n      <td>budpol</td>\n      <td>BudovaPlocha</td>\n      <td>budpol:BudovaPlochaType</td>\n      <td>0100000001</td>\n      <td>required</td>\n      <td>03</td>\n      <td>required</td>\n      <td>Budovy</td>\n      <td>Objekt budovy</td>\n      <td>ZPS</td>\n      <td>0</td>\n      <td>NaN</td>\n      <td>NaN</td>\n      <td>[gml:surfaceProperty, gml:multiCurveProperty]</td>\n    </tr>\n    <tr>\n      <th>...</th>\n      <td>...</td>\n      <td>...</td>\n      <td>...</td>\n      <td>...</td>\n      <td>...</td>\n      <td>...</td>\n      <td>...</td>\n      <td>...</td>\n      <td>...</td>\n      <td>...</td>\n      <td>...</td>\n      <td>...</td>\n      <td>...</td>\n      <td>...</td>\n      <td>...</td>\n    </tr>\n    <tr>\n      <th>353</th>\n      <td>zed-linie.xsd</td>\n      <td>zedlin</td>\n      <td>ZedLinie</td>\n      <td>zedlin:ZedLinieType</td>\n      <td>0100000168</td>\n      <td>required</td>\n      <td>02</td>\n      <td>required</td>\n      <td>Součásti a příslušenství staveb</td>\n      <td>Stavba společná pro více skupin</td>\n      <td>ZPS</td>\n      <td>0</td>\n      <td>NaN</td>\n      <td>NaN</td>\n      <td>[gml:curveProperty]</td>\n    </tr>\n    <tr>\n      <th>354</th>\n      <td>zed-plocha.xsd</td>\n      <td>zedpol</td>\n      <td>ZedPlocha</td>\n      <td>zedpol:ZedPlochaType</td>\n      <td>0100000168</td>\n      <td>required</td>\n      <td>03</td>\n      <td>required</td>\n      <td>Součásti a příslušenství staveb</td>\n      <td>Stavba společná pro více skupin</td>\n      <td>ZPS</td>\n      <td>0</td>\n      <td>NaN</td>\n      <td>NaN</td>\n      <td>[gml:surfaceProperty, gml:multiCurveProperty]</td>\n    </tr>\n    <tr>\n      <th>355</th>\n      <td>zeleznicni_prejezd-plocha.xsd</td>\n      <td>zprpol</td>\n      <td>ZeleznicniPrejezd</td>\n      <td>zprpol:ZeleznicniPrejezdType</td>\n      <td>0100000022</td>\n      <td>required</td>\n      <td>03</td>\n      <td>required</td>\n      <td>Dopravní stavby</td>\n      <td>Drážní doprava</td>\n      <td>DI</td>\n      <td>0</td>\n      <td>NaN</td>\n      <td>NaN</td>\n      <td>[gml:surfaceProperty]</td>\n    </tr>\n    <tr>\n      <th>356</th>\n      <td>zemedelska_plocha-defbod.xsd</td>\n      <td>zepdef</td>\n      <td>ZemedelskaPlochaDefinicniBod</td>\n      <td>zepdef:ZemedelskaPlochaDefinicniBodType</td>\n      <td>0100000207</td>\n      <td>required</td>\n      <td>04</td>\n      <td>required</td>\n      <td>Vodstvo, vegetace a terén</td>\n      <td>Hospodářská plocha</td>\n      <td>ZPS</td>\n      <td>0</td>\n      <td>NaN</td>\n      <td>NaN</td>\n      <td>[gml:pointProperty]</td>\n    </tr>\n    <tr>\n      <th>357</th>\n      <td>zemedelska_plocha-plocha.xsd</td>\n      <td>zeppol</td>\n      <td>ZemedelskaPlochaPlocha</td>\n      <td>zeppol:ZemedelskaPlochaPlochaType</td>\n      <td>0100000207</td>\n      <td>required</td>\n      <td>03</td>\n      <td>required</td>\n      <td>Vodstvo, vegetace a terén</td>\n      <td>Hospodářská plocha</td>\n      <td>ZPS</td>\n      <td>0</td>\n      <td>NaN</td>\n      <td>NaN</td>\n      <td>[gml:surfaceProperty, gml:multiCurveProperty]</td>\n    </tr>\n  </tbody>\n</table>\n<p>358 rows × 15 columns</p>\n</div>"
     },
     "execution_count": 120,
     "metadata": {},
     "output_type": "execute_result"
    }
   ],
   "source": [
    "def process_flag_value(data, element, matched_column, flag, is_unique=False):\n",
    "    \"\"\"\n",
    "    Extracts the value of a specific attribute (flag) from an XML element and stores it in the data dictionary.\n",
    "    \n",
    "    Parameters:\n",
    "    - data: dict where extracted values are stored.\n",
    "    - element: XML element being processed.\n",
    "    - matched_column: base name used to construct the output column name.\n",
    "    - flag: the attribute name to extract from the element.\n",
    "    - is_unique: if True, prevents duplicate values in the list for this column.\n",
    "    \"\"\"\n",
    "    val = element.get(flag)\n",
    "    if not val:\n",
    "        return\n",
    "\n",
    "    output_column_name = f\"{matched_column}_{flag}\"\n",
    "\n",
    "    if output_column_name not in data:\n",
    "        data[output_column_name] = [val]\n",
    "    else:\n",
    "        if not isinstance(data[output_column_name], list):\n",
    "            data[output_column_name] = [data[output_column_name]]\n",
    "\n",
    "        if is_unique and val in data[output_column_name]:\n",
    "            return\n",
    "\n",
    "        data[output_column_name].append(val)\n",
    "\n",
    "\n",
    "def order_dataframe_columns_by_config(df, config, element_types):\n",
    "    \"\"\"\n",
    "    Orders DataFrame columns based on the config and element_types definition.\n",
    "    Ensures that base element columns (like 'GeometrieObjektu') appear before derived ones\n",
    "    (like 'GeometrieObjektu_minOccurs', 'GeometrieObjektu_type', etc.).\n",
    "    \"\"\"\n",
    "    ordered_cols = []\n",
    "\n",
    "    # Add basic config-defined columns\n",
    "    for key in [\"filename\", \"namespace\", \"name\", \"type\"]:\n",
    "        if config.get(key):\n",
    "            ordered_cols.append(key)\n",
    "\n",
    "    # Add columns defined in element_types\n",
    "    for col, desc in element_types.items():\n",
    "        base = col.split(\":\")[-1]\n",
    "\n",
    "        # Add existence flag or base column first\n",
    "        if desc.get(\"exist\"):\n",
    "            ordered_cols.append(base)\n",
    "\n",
    "        # Then add element flags like required, prohibited, minOccurs, etc.\n",
    "        for flag, val in desc.items():\n",
    "            if flag in {\"exist\", \"match\", \"attributes\"}:\n",
    "                continue\n",
    "            if val is True or val == \"unique\":\n",
    "                ordered_cols.append(f\"{base}_{flag}\")\n",
    "\n",
    "        # Then add attribute-derived columns\n",
    "        if \"attributes\" in desc:\n",
    "            for attr, props in desc[\"attributes\"].items():\n",
    "                for prop in props:\n",
    "                    ordered_cols.append(f\"{attr}_{prop}\")\n",
    "\n",
    "    # Add any remaining columns from DataFrame\n",
    "    remaining = [c for c in df.columns if c not in ordered_cols]\n",
    "    return df.reindex(columns=ordered_cols + remaining)\n",
    "\n",
    "\n",
    "# Load JSON config\n",
    "with open(\"../tests/data/config_1.4.3.json\", \"r\", encoding=\"utf-8\") as f:\n",
    "    # config = json.load(f)\n",
    "    config = json.load(f)\n",
    "\n",
    "# Path to the folder with extracted .xsd files\n",
    "xsd_objects_path = output_path / \"xsd\" / \"objekty\"\n",
    "records = []\n",
    "element_types = config[\"element_types\"]\n",
    "\n",
    "for file_path in xsd_objects_path.glob(\"*.xsd\"):\n",
    "    try:\n",
    "        tree = etree.parse(str(file_path))\n",
    "        root = tree.getroot()\n",
    "        \n",
    "        namespace = root.attrib.get(\"targetNamespace\", \"\")\n",
    "        data = {}\n",
    "        if config.get(\"filename\") is True:\n",
    "            data[\"filename\"] = file_path.name\n",
    "        if config.get(\"namespace\") is True:\n",
    "            data[\"namespace\"] = namespace\n",
    "\n",
    "        # Get top-level element\n",
    "        if config.get(\"name\") is True or config.get(\"type\") is True:\n",
    "            top_level_elems = root.xpath('./*[local-name()=\"element\"]')\n",
    "            main_elem = top_level_elems[0]\n",
    "            if config.get(\"name\") is True:\n",
    "                data[\"name\"] = main_elem.get(\"name\", \"\")\n",
    "            if config.get(\"type\") is True:\n",
    "                data[\"type\"] = main_elem.get(\"type\", \"\")\n",
    "        \n",
    "        # Initialize the value of exist to 0 when asking for existence\n",
    "        for column_name, description in element_types.items():\n",
    "            if description.get(\"exist\") is True:\n",
    "                cleaned_column_name = column_name.split(\":\")[-1]\n",
    "                data[cleaned_column_name] = 0\n",
    "\n",
    "        all_elements = root.xpath(\".//*[local-name()='element']\")\n",
    "        for element in all_elements:\n",
    "                etype = None\n",
    "                match_key = None\n",
    "                matched_column = None\n",
    "                # Find \"match\" values from config file\n",
    "                for column_name, description in element_types.items():\n",
    "                    config_match = description.get(\"match\")\n",
    "                    # if value of \"match\" is not given, use \"name\"\n",
    "                    if not config_match:\n",
    "                        config_match = \"name\"\n",
    "                        \n",
    "                    # Try to find element match\n",
    "                    match_element = element.get(config_match)\n",
    "                    # if it is the right element save description, column_name and match value\n",
    "                    if match_element == column_name:\n",
    "                        etype = description\n",
    "                        matched_column = column_name.split(\":\")[-1]\n",
    "                        match_key = config_match\n",
    "                        break\n",
    "                        \n",
    "                if not etype:\n",
    "                    # skip if matching element type wasn't found\n",
    "                    continue\n",
    "                # Handle attributes\n",
    "                if \"attributes\" in etype:\n",
    "                    # Iterate over attributes and their properties\n",
    "                    for attr_name, props in etype[\"attributes\"].items():\n",
    "                        for prop in props:\n",
    "                            # find values using xpath\n",
    "                            val = element.xpath(f\".//*[local-name()='attribute' and @{match_key}='{attr_name}']/@{prop}\")\n",
    "                            # save to output data\n",
    "                            if val:\n",
    "                                data[f\"{attr_name}_{prop}\"] = val[0]\n",
    "                \n",
    "                # Handle existence of element\n",
    "                if etype.get(\"exist\") is True:\n",
    "                    cleaned_matched_column = matched_column.split(\":\")[-1]\n",
    "                    data[cleaned_matched_column] = 1\n",
    "                \n",
    "                # Special case for geometry in version 1.4.3 without explicit 'type' attribute\n",
    "                if matched_column ==\"GeometrieObjektu\" and not element.get(\"type\"):\n",
    "                    # Find all child <element> nodes with a 'ref' attribute\n",
    "                    ref_values = element.xpath(\".//*[local-name()='element' and @ref]/@ref\")\n",
    "                    if ref_values:\n",
    "                        data[\"GeometrieObjektu\"] = ref_values\n",
    "                \n",
    "                # Handle asking directly for element properties\n",
    "                true_flags = [key for key, value in etype.items() if value is True]\n",
    "                unique_flags = [key for key, value in etype.items() if value ==\"unique\"]\n",
    "                unique_cols = list(f\"{matched_column}_{flag}\" for flag in unique_flags)\n",
    "                for flag in true_flags:\n",
    "                    process_flag_value(data, element, matched_column, flag, is_unique=False)\n",
    "\n",
    "                for flag in unique_flags:\n",
    "                    process_flag_value(data, element, matched_column, flag, is_unique=True)\n",
    "\n",
    "                for col in list(data):\n",
    "                    if col in unique_cols:\n",
    "                        if not isinstance(data[col], list):\n",
    "                            data[col] = [data[col]]\n",
    "                    else:\n",
    "                        if isinstance(data[col], list) and len(data[col]) == 1 and col not in (\"GeometrieObjektu_type\",\"GeometrieObjektu\"):\n",
    "                            data[col] = data[col][0]\n",
    "\n",
    "        records.append(data)\n",
    "\n",
    "    except Exception as e:\n",
    "        print(f\"[Error] {file_path.name}: {e}\")\n",
    "        raise\n",
    "\n",
    "\n",
    "df_str1 = pd.DataFrame(records, dtype=object)\n",
    "df_str1 = order_dataframe_columns_by_config(df_str1, config, element_types)\n",
    "output_csv_path = output_path.parent / \"detailed_1.4.3.csv\"\n",
    "output_csv_path.parent.mkdir(parents=True, exist_ok=True)\n",
    "df_str1.to_csv(output_csv_path, index=False)\n",
    "df_str1"
   ],
   "metadata": {
    "collapsed": false,
    "ExecuteTime": {
     "end_time": "2025-06-25T23:35:37.156756400Z",
     "start_time": "2025-06-25T23:35:36.918295600Z"
    }
   },
   "id": "cbbb9158b675ef96"
  }
 ],
 "metadata": {
  "kernelspec": {
   "display_name": "Python 3 (ipykernel)",
   "language": "python",
   "name": "python3"
  },
  "language_info": {
   "codemirror_mode": {
    "name": "ipython",
    "version": 3
   },
   "file_extension": ".py",
   "mimetype": "text/x-python",
   "name": "python",
   "nbconvert_exporter": "python",
   "pygments_lexer": "ipython3",
   "version": "3.12.10"
  }
 },
 "nbformat": 4,
 "nbformat_minor": 5
}
