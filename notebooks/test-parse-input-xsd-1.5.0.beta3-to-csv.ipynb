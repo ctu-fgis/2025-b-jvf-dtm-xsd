{
 "cells": [
  {
   "cell_type": "markdown",
   "id": "776380a8-25f5-4ba1-8744-cb2a393081ae",
   "metadata": {},
   "source": [
    "# XSD to CSV Conversion Testing"
   ]
  },
  {
   "cell_type": "markdown",
   "id": "e1195385-adce-4e31-8c74-cd422d8aa363",
   "metadata": {},
   "source": [
    "### Import needed libraries\n",
    "\n",
    "- `zipfile` – for working with ZIP archives\n",
    "- `json` – for working with jsons\n",
    "- `xmlschema` – to read and validate XSD files (`pip install xmlschema`)\n",
    "- `pandas` – for working with tables and dataframes (`pip install pandas`)\n",
    "- `lxml.etree` – to parse and read XML/XSD structure (`pip install lxml`)\n",
    "- `pathlib.Path` – for path handling\n",
    "\n",
    "Make sure to install missing ones using `pip` if needed."
   ]
  },
  {
   "cell_type": "code",
   "execution_count": 1,
   "id": "a9e56d19-9ef9-451a-820d-1dfe3b202115",
   "metadata": {
    "ExecuteTime": {
     "end_time": "2025-06-20T09:32:37.062187600Z",
     "start_time": "2025-06-20T09:32:33.591614300Z"
    }
   },
   "outputs": [],
   "source": [
    "import zipfile\n",
    "import json\n",
    "import xmlschema\n",
    "import pandas as pd\n",
    "from lxml import etree\n",
    "from pathlib import Path"
   ]
  },
  {
   "cell_type": "markdown",
   "id": "4cb32fef-c02b-4a93-8969-42913f5b645a",
   "metadata": {},
   "source": [
    "### Set paths for input ZIP and output folder\n",
    "\n",
    "This cell sets:\n",
    "- `input_zip_path`: path to the input ZIP file with XSDs\n",
    "- `output_path`: where to extract files\n",
    "\n",
    "If the folder doesn't exist, it will be created."
   ]
  },
  {
   "cell_type": "code",
   "execution_count": 2,
   "id": "e7b470be-ec37-4aa4-80ab-338e63d70f7b",
   "metadata": {
    "ExecuteTime": {
     "end_time": "2025-06-20T09:34:12.735895600Z",
     "start_time": "2025-06-20T09:34:12.726868700Z"
    }
   },
   "outputs": [],
   "source": [
    "# Define the path to the input zip file and output directory\n",
    "input_zip_path = Path(\"../tests/data/JVF_DTM_150_beta3_XSD.zip\")\n",
    "output_path = Path(\"../tests/output/JVF_DTM_150_beta3_XSD\")\n",
    "\n",
    "# Create the output directory if it doesn't exist\n",
    "output_path.mkdir(parents=True, exist_ok=True)"
   ]
  },
  {
   "cell_type": "markdown",
   "id": "0eda1e04-6da7-48a8-ada7-a41dbd9bfca6",
   "metadata": {},
   "source": [
    "### Unzip the input file\n",
    "\n",
    "Extracts the ZIP archive to the output folder and prints the extracted file names."
   ]
  },
  {
   "cell_type": "code",
   "execution_count": 3,
   "id": "e356362a-3dd3-4b01-8391-51fb2e5486dd",
   "metadata": {
    "ExecuteTime": {
     "end_time": "2025-06-20T09:34:15.173858Z",
     "start_time": "2025-06-20T09:34:14.834893200Z"
    }
   },
   "outputs": [
    {
     "name": "stdout",
     "output_type": "stream",
     "text": [
      "Extracted to: ..\\tests\\output\\JVF_DTM_150_beta3_XSD\n",
      "['xsd']\n"
     ]
    }
   ],
   "source": [
    "# Extract the zip file\n",
    "with zipfile.ZipFile(input_zip_path, 'r') as zip_ref:\n",
    "    zip_ref.extractall(output_path)\n",
    "\n",
    "# Show extracted files\n",
    "print(f\"Extracted to: {output_path}\")\n",
    "print(sorted(f.name for f in output_path.iterdir()))"
   ]
  },
  {
   "cell_type": "markdown",
   "id": "e3f1c401-aa13-4333-b82c-e1b523a8c743",
   "metadata": {},
   "source": [
    "### Load and parse XSD files\n",
    "\n",
    "Defines a function that finds all `.xsd` files in the folder, parses them into XML trees, and returns a list of (file name, XML root element) pairs."
   ]
  },
  {
   "cell_type": "code",
   "execution_count": 4,
   "id": "22757a34-5866-4dea-9a67-8b24691b9bd8",
   "metadata": {
    "ExecuteTime": {
     "end_time": "2025-06-20T09:34:30.954147100Z",
     "start_time": "2025-06-20T09:34:24.206025900Z"
    }
   },
   "outputs": [],
   "source": [
    "# Set the path to the folder with extracted XSD files\n",
    "xsd_dir = output_path / \"xsd\"\n",
    "\n",
    "def load_xsd_files(directory):\n",
    "    \"\"\"Load all XSD files from the given directory and parse them into XML trees.\n",
    "    \n",
    "    Args:\n",
    "        directory (Path): Base directory to search for .xsd files.\n",
    "\n",
    "    Returns:\n",
    "        list of (filename, XML root element) tuples.\n",
    "    \"\"\"\n",
    "    \n",
    "    # Initialize an empty list to store parsed XSD file information\n",
    "    xsd_files = []\n",
    "    \n",
    "    # Recursively find all .xsd files\n",
    "    for path in directory.rglob(\"*.xsd\"):\n",
    "        try:\n",
    "            # Parse the file into an XML tree\n",
    "            tree = etree.parse(str(path))\n",
    "    \n",
    "            # Add the file name and root element to the list\n",
    "            xsd_files.append((path.name, tree.getroot()))\n",
    "    \n",
    "        except etree.XMLSyntaxError as e:\n",
    "            # Handle invalid XML syntax\n",
    "            print(f\"[XMLSyntaxError] Skipping {path.name}: {e}\")\n",
    "    \n",
    "        except Exception as e:\n",
    "            #  Handle all unexpected errors\n",
    "            print(f\"[UnexpectedError] Could not process {path.name}: {e}\")\n",
    "            raise  # Re-raise the exception\n",
    "\n",
    "    return xsd_files\n",
    "\n",
    "# Call the function to load and parse the XSD files\n",
    "xsd_files = load_xsd_files(xsd_dir)"
   ]
  },
  {
   "cell_type": "markdown",
   "id": "192555cb-b85a-450b-b8e5-4a5227c58027",
   "metadata": {},
   "source": [
    "### Create summary table of XSD files\n",
    "\n",
    "Builds a simple table showing each XSD file's name, root tag, and number of elements."
   ]
  },
  {
   "cell_type": "code",
   "execution_count": 5,
   "id": "713f0d5d-c7c5-44d9-9863-cb3d8f0f0d27",
   "metadata": {
    "ExecuteTime": {
     "end_time": "2025-06-20T09:34:36.075112Z",
     "start_time": "2025-06-20T09:34:36.044035500Z"
    }
   },
   "outputs": [
    {
     "data": {
      "text/plain": "                    File Name                                  Root Tag  \\\n0                atributy.xsd  {http://www.w3.org/2001/XMLSchema}schema   \n1                  common.xsd  {http://www.w3.org/2001/XMLSchema}schema   \n2    doprovodne_informace.xsd  {http://www.w3.org/2001/XMLSchema}schema   \n3                 extenze.xsd  {http://www.w3.org/2001/XMLSchema}schema   \n4                  servis.xsd  {http://www.w3.org/2001/XMLSchema}schema   \n..                        ...                                       ...   \n514    spatialReferencing.xsd  {http://www.w3.org/2001/XMLSchema}schema   \n515              geometry.xsd  {http://www.w3.org/2001/XMLSchema}schema   \n516                   gss.xsd  {http://www.w3.org/2001/XMLSchema}schema   \n517                   gts.xsd  {http://www.w3.org/2001/XMLSchema}schema   \n518       temporalObjects.xsd  {http://www.w3.org/2001/XMLSchema}schema   \n\n     Number of Elements  \n0                   243  \n1                    10  \n2                    56  \n3                     1  \n4                     2  \n..                  ...  \n514                  14  \n515                  19  \n516                   7  \n517                   7  \n518                  19  \n\n[519 rows x 3 columns]",
      "text/html": "<div>\n<style scoped>\n    .dataframe tbody tr th:only-of-type {\n        vertical-align: middle;\n    }\n\n    .dataframe tbody tr th {\n        vertical-align: top;\n    }\n\n    .dataframe thead th {\n        text-align: right;\n    }\n</style>\n<table border=\"1\" class=\"dataframe\">\n  <thead>\n    <tr style=\"text-align: right;\">\n      <th></th>\n      <th>File Name</th>\n      <th>Root Tag</th>\n      <th>Number of Elements</th>\n    </tr>\n  </thead>\n  <tbody>\n    <tr>\n      <th>0</th>\n      <td>atributy.xsd</td>\n      <td>{http://www.w3.org/2001/XMLSchema}schema</td>\n      <td>243</td>\n    </tr>\n    <tr>\n      <th>1</th>\n      <td>common.xsd</td>\n      <td>{http://www.w3.org/2001/XMLSchema}schema</td>\n      <td>10</td>\n    </tr>\n    <tr>\n      <th>2</th>\n      <td>doprovodne_informace.xsd</td>\n      <td>{http://www.w3.org/2001/XMLSchema}schema</td>\n      <td>56</td>\n    </tr>\n    <tr>\n      <th>3</th>\n      <td>extenze.xsd</td>\n      <td>{http://www.w3.org/2001/XMLSchema}schema</td>\n      <td>1</td>\n    </tr>\n    <tr>\n      <th>4</th>\n      <td>servis.xsd</td>\n      <td>{http://www.w3.org/2001/XMLSchema}schema</td>\n      <td>2</td>\n    </tr>\n    <tr>\n      <th>...</th>\n      <td>...</td>\n      <td>...</td>\n      <td>...</td>\n    </tr>\n    <tr>\n      <th>514</th>\n      <td>spatialReferencing.xsd</td>\n      <td>{http://www.w3.org/2001/XMLSchema}schema</td>\n      <td>14</td>\n    </tr>\n    <tr>\n      <th>515</th>\n      <td>geometry.xsd</td>\n      <td>{http://www.w3.org/2001/XMLSchema}schema</td>\n      <td>19</td>\n    </tr>\n    <tr>\n      <th>516</th>\n      <td>gss.xsd</td>\n      <td>{http://www.w3.org/2001/XMLSchema}schema</td>\n      <td>7</td>\n    </tr>\n    <tr>\n      <th>517</th>\n      <td>gts.xsd</td>\n      <td>{http://www.w3.org/2001/XMLSchema}schema</td>\n      <td>7</td>\n    </tr>\n    <tr>\n      <th>518</th>\n      <td>temporalObjects.xsd</td>\n      <td>{http://www.w3.org/2001/XMLSchema}schema</td>\n      <td>19</td>\n    </tr>\n  </tbody>\n</table>\n<p>519 rows × 3 columns</p>\n</div>"
     },
     "execution_count": 5,
     "metadata": {},
     "output_type": "execute_result"
    }
   ],
   "source": [
    "# Initialize empty lists for storing data\n",
    "summary = []\n",
    "\n",
    "for file_name, root in xsd_files:\n",
    "    summary.append({\n",
    "        \"File Name\": file_name,\n",
    "        \"Root Tag\": root.tag,\n",
    "        \"Number of Elements\": len(root)\n",
    "    })\n",
    "\n",
    "df_summary = pd.DataFrame(summary)\n",
    "df_summary"
   ]
  },
  {
   "cell_type": "markdown",
   "id": "f2825003-bc69-46f9-b785-9cc3e87a77aa",
   "metadata": {},
   "source": [
    "### Table of XSD Element References\n",
    "\n",
    "This cell generates a table `str2.csv`\n",
    "\n",
    "Each row includes:\n",
    "- **filename**: the XSD file name,\n",
    "- **nazev**: the reference name (`atr:` or `gml:`),\n",
    "- **minOccurs**: optionality (`0` if the element is optional)."
   ]
  },
  {
   "cell_type": "code",
   "execution_count": 6,
   "id": "7c4f3629-52d7-4388-950a-d00b06d0629d",
   "metadata": {
    "ExecuteTime": {
     "end_time": "2025-06-20T09:34:54.093753900Z",
     "start_time": "2025-06-20T09:34:53.826922700Z"
    }
   },
   "outputs": [
    {
     "data": {
      "text/plain": "                                     filename  \\\n0               BP_plynovodni_site-plocha.xsd   \n1    BP_podzemniho_zasobniku_plynu-plocha.xsd   \n2    BP_podzemniho_zasobniku_plynu-plocha.xsd   \n3                  BP_zarizeni_PKO-plocha.xsd   \n4                          chodnik-defbod.xsd   \n..                                        ...   \n552                             zed-linie.xsd   \n553                             zed-linie.xsd   \n554                            zed-plocha.xsd   \n555              zemedelska_plocha-defbod.xsd   \n556              zemedelska_plocha-plocha.xsd   \n\n                               nazev minOccurs  \n0                atr:OblastObjektuKI         0  \n1    atr:TypPodzemnihoZasobnikuPlynu      None  \n2                atr:OblastObjektuKI         0  \n3                atr:OblastObjektuKI         0  \n4              atr:PrevazujiciPovrch      None  \n..                               ...       ...  \n552                       atr:TypZdi      None  \n553         atr:HraniceJinehoObjektu      None  \n554                       atr:TypZdi      None  \n555          atr:TypZemedelskePlochy      None  \n556          atr:TypZemedelskePlochy      None  \n\n[557 rows x 3 columns]",
      "text/html": "<div>\n<style scoped>\n    .dataframe tbody tr th:only-of-type {\n        vertical-align: middle;\n    }\n\n    .dataframe tbody tr th {\n        vertical-align: top;\n    }\n\n    .dataframe thead th {\n        text-align: right;\n    }\n</style>\n<table border=\"1\" class=\"dataframe\">\n  <thead>\n    <tr style=\"text-align: right;\">\n      <th></th>\n      <th>filename</th>\n      <th>nazev</th>\n      <th>minOccurs</th>\n    </tr>\n  </thead>\n  <tbody>\n    <tr>\n      <th>0</th>\n      <td>BP_plynovodni_site-plocha.xsd</td>\n      <td>atr:OblastObjektuKI</td>\n      <td>0</td>\n    </tr>\n    <tr>\n      <th>1</th>\n      <td>BP_podzemniho_zasobniku_plynu-plocha.xsd</td>\n      <td>atr:TypPodzemnihoZasobnikuPlynu</td>\n      <td>None</td>\n    </tr>\n    <tr>\n      <th>2</th>\n      <td>BP_podzemniho_zasobniku_plynu-plocha.xsd</td>\n      <td>atr:OblastObjektuKI</td>\n      <td>0</td>\n    </tr>\n    <tr>\n      <th>3</th>\n      <td>BP_zarizeni_PKO-plocha.xsd</td>\n      <td>atr:OblastObjektuKI</td>\n      <td>0</td>\n    </tr>\n    <tr>\n      <th>4</th>\n      <td>chodnik-defbod.xsd</td>\n      <td>atr:PrevazujiciPovrch</td>\n      <td>None</td>\n    </tr>\n    <tr>\n      <th>...</th>\n      <td>...</td>\n      <td>...</td>\n      <td>...</td>\n    </tr>\n    <tr>\n      <th>552</th>\n      <td>zed-linie.xsd</td>\n      <td>atr:TypZdi</td>\n      <td>None</td>\n    </tr>\n    <tr>\n      <th>553</th>\n      <td>zed-linie.xsd</td>\n      <td>atr:HraniceJinehoObjektu</td>\n      <td>None</td>\n    </tr>\n    <tr>\n      <th>554</th>\n      <td>zed-plocha.xsd</td>\n      <td>atr:TypZdi</td>\n      <td>None</td>\n    </tr>\n    <tr>\n      <th>555</th>\n      <td>zemedelska_plocha-defbod.xsd</td>\n      <td>atr:TypZemedelskePlochy</td>\n      <td>None</td>\n    </tr>\n    <tr>\n      <th>556</th>\n      <td>zemedelska_plocha-plocha.xsd</td>\n      <td>atr:TypZemedelskePlochy</td>\n      <td>None</td>\n    </tr>\n  </tbody>\n</table>\n<p>557 rows × 3 columns</p>\n</div>"
     },
     "execution_count": 6,
     "metadata": {},
     "output_type": "execute_result"
    }
   ],
   "source": [
    "# Path to the folder with extracted XSD files\n",
    "xsd_objects_path = output_path / \"xsd\" / \"objekty\"\n",
    "\n",
    "records = []\n",
    "seen_global = set()  # Track all (filename, nazev) pairs to avoid duplicates\n",
    "\n",
    "# Loop through all .xsd files in the directory\n",
    "for file_path in xsd_objects_path.glob(\"*.xsd\"):\n",
    "    try:\n",
    "        # Parse the XSD file into an XML tree\n",
    "        tree = etree.parse(str(file_path))\n",
    "        root = tree.getroot()\n",
    "\n",
    "        # Find all <complexType> elements in the schema\n",
    "        complex_types = root.xpath(\".//*[local-name()='complexType']\")\n",
    "\n",
    "        for complex_type in complex_types:\n",
    "            atr_normal = []\n",
    "            atr_ki = []\n",
    "            gml_refs = []\n",
    "            gml_min_flags = []\n",
    "            atr_ki_with_0 = False\n",
    "\n",
    "            # Find nested <element> definitions\n",
    "            for element in complex_type.xpath(\".//*[local-name()='element']\"):\n",
    "                ref = element.get(\"ref\")\n",
    "                min_occurs = element.get(\"minOccurs\")\n",
    "\n",
    "                if not ref:\n",
    "                    continue\n",
    "\n",
    "                key = (file_path.name, ref)\n",
    "                if key in seen_global:\n",
    "                    continue\n",
    "                seen_global.add(key)\n",
    "\n",
    "                # Handle atr: references\n",
    "                if ref.startswith(\"atr:\"):\n",
    "                    entry = {\n",
    "                        \"filename\": file_path.name,\n",
    "                        \"nazev\": ref,\n",
    "                        \"minOccurs\": min_occurs  # May be None\n",
    "                    }\n",
    "                    if ref.endswith(\"KI\"):\n",
    "                        atr_ki.append(entry)\n",
    "                        if min_occurs == \"0\":\n",
    "                            atr_ki_with_0 = True\n",
    "                    else:\n",
    "                        atr_normal.append(entry)\n",
    "\n",
    "                # Handle gml: references\n",
    "                elif ref.startswith(\"gml:\"):\n",
    "                    gml_refs.append(ref)\n",
    "                    gml_min_flags.append(min_occurs)\n",
    "\n",
    "            # Add atr: not ending with KI\n",
    "            records.extend(atr_normal)\n",
    "\n",
    "            # Add gml: references\n",
    "            if gml_refs:\n",
    "                min_occurs_final = \"0\" if \"0\" in gml_min_flags or atr_ki_with_0 else None\n",
    "                records.append({\n",
    "                    \"filename\": file_path.name,\n",
    "                    \"nazev\": str(gml_refs),  # Format as list string e.g. ['gml:...']\n",
    "                    \"minOccurs\": min_occurs_final\n",
    "                })\n",
    "\n",
    "            # Add atr: ending with KI\n",
    "            records.extend(atr_ki)\n",
    "\n",
    "    except etree.XMLSyntaxError as e:\n",
    "        print(f\"[XMLSyntaxError] {file_path.name}: {e}\")\n",
    "    except Exception as e:\n",
    "        print(f\"[Error] Failed to process {file_path.name}: {e}\")\n",
    "        raise\n",
    "\n",
    "# Create DataFrame from extracted records\n",
    "df_str2 = pd.DataFrame(records)\n",
    "\n",
    "# Save the DataFrame to CSV\n",
    "df_str2.to_csv(output_path.parent / \"summary_1.5.0.csv\", index=False)\n",
    "\n",
    "# Display the resulting DataFrame\n",
    "df_str2"
   ]
  },
  {
   "cell_type": "markdown",
   "id": "8f9d78e81fdf2b4f",
   "metadata": {
    "collapsed": false
   },
   "source": [
    "## str1 - version with config file\n",
    "\n",
    "* target fields defined in JSON file - config_1.5.0.json"
   ]
  },
  {
   "cell_type": "code",
   "execution_count": 20,
   "id": "79b5e8a8186b1901",
   "metadata": {
    "collapsed": false,
    "ExecuteTime": {
     "end_time": "2025-06-20T15:49:05.979041300Z",
     "start_time": "2025-06-20T15:41:01.164976800Z"
    }
   },
   "outputs": [
    {
     "name": "stdout",
     "output_type": "stream",
     "text": [
      "{None: 'autzas', 'atr': 'atr', 'cmn': 'cmn', 'gml': 'http://www.opengis.net/gml/3.2', 'xs': 'http://www.w3.org/2001/XMLSchema'}\n"
     ]
    },
    {
     "ename": "KeyboardInterrupt",
     "evalue": "",
     "output_type": "error",
     "traceback": [
      "\u001B[31m---------------------------------------------------------------------------\u001B[39m",
      "\u001B[31mKeyboardInterrupt\u001B[39m                         Traceback (most recent call last)",
      "\u001B[36mCell\u001B[39m\u001B[36m \u001B[39m\u001B[32mIn[20]\u001B[39m\u001B[32m, line 32\u001B[39m\n\u001B[32m     30\u001B[39m main_elem = top_level_elems[\u001B[32m0\u001B[39m]\n\u001B[32m     31\u001B[39m \u001B[38;5;28;01mif\u001B[39;00m \u001B[33m\"\u001B[39m\u001B[33mname\u001B[39m\u001B[33m\"\u001B[39m \u001B[38;5;129;01min\u001B[39;00m config:\n\u001B[32m---> \u001B[39m\u001B[32m32\u001B[39m     data[\u001B[33m\"\u001B[39m\u001B[33mname\u001B[39m\u001B[33m\"\u001B[39m] = \u001B[43mmain_elem\u001B[49m.get(\u001B[33m\"\u001B[39m\u001B[33mname\u001B[39m\u001B[33m\"\u001B[39m, \u001B[33m\"\u001B[39m\u001B[33m\"\u001B[39m)\n\u001B[32m     33\u001B[39m \u001B[38;5;28;01mif\u001B[39;00m \u001B[33m\"\u001B[39m\u001B[33mtype\u001B[39m\u001B[33m\"\u001B[39m \u001B[38;5;129;01min\u001B[39;00m config:\n\u001B[32m     34\u001B[39m     data[\u001B[33m\"\u001B[39m\u001B[33mtype\u001B[39m\u001B[33m\"\u001B[39m] = main_elem.get(\u001B[33m\"\u001B[39m\u001B[33mtype\u001B[39m\u001B[33m\"\u001B[39m, \u001B[33m\"\u001B[39m\u001B[33m\"\u001B[39m)\n",
      "\u001B[36mFile \u001B[39m\u001B[32m_pydevd_bundle\\\\pydevd_cython_win32_312_64.pyx:1179\u001B[39m, in \u001B[36m_pydevd_bundle.pydevd_cython_win32_312_64.SafeCallWrapper.__call__\u001B[39m\u001B[34m()\u001B[39m\n",
      "\u001B[36mFile \u001B[39m\u001B[32m_pydevd_bundle\\\\pydevd_cython_win32_312_64.pyx:620\u001B[39m, in \u001B[36m_pydevd_bundle.pydevd_cython_win32_312_64.PyDBFrame.trace_dispatch\u001B[39m\u001B[34m()\u001B[39m\n",
      "\u001B[36mFile \u001B[39m\u001B[32m_pydevd_bundle\\\\pydevd_cython_win32_312_64.pyx:929\u001B[39m, in \u001B[36m_pydevd_bundle.pydevd_cython_win32_312_64.PyDBFrame.trace_dispatch\u001B[39m\u001B[34m()\u001B[39m\n",
      "\u001B[36mFile \u001B[39m\u001B[32m_pydevd_bundle\\\\pydevd_cython_win32_312_64.pyx:920\u001B[39m, in \u001B[36m_pydevd_bundle.pydevd_cython_win32_312_64.PyDBFrame.trace_dispatch\u001B[39m\u001B[34m()\u001B[39m\n",
      "\u001B[36mFile \u001B[39m\u001B[32m_pydevd_bundle\\\\pydevd_cython_win32_312_64.pyx:317\u001B[39m, in \u001B[36m_pydevd_bundle.pydevd_cython_win32_312_64.PyDBFrame.do_wait_suspend\u001B[39m\u001B[34m()\u001B[39m\n",
      "\u001B[36mFile \u001B[39m\u001B[32mC:\\Program Files\\JetBrains\\PyCharm 2023.2.5\\plugins\\python\\helpers\\pydev\\pydevd.py:1160\u001B[39m, in \u001B[36mPyDB.do_wait_suspend\u001B[39m\u001B[34m(self, thread, frame, event, arg, send_suspend_message, is_unhandled_exception)\u001B[39m\n\u001B[32m   1157\u001B[39m         from_this_thread.append(frame_id)\n\u001B[32m   1159\u001B[39m \u001B[38;5;28;01mwith\u001B[39;00m \u001B[38;5;28mself\u001B[39m._threads_suspended_single_notification.notify_thread_suspended(thread_id, stop_reason):\n\u001B[32m-> \u001B[39m\u001B[32m1160\u001B[39m     \u001B[38;5;28;43mself\u001B[39;49m\u001B[43m.\u001B[49m\u001B[43m_do_wait_suspend\u001B[49m\u001B[43m(\u001B[49m\u001B[43mthread\u001B[49m\u001B[43m,\u001B[49m\u001B[43m \u001B[49m\u001B[43mframe\u001B[49m\u001B[43m,\u001B[49m\u001B[43m \u001B[49m\u001B[43mevent\u001B[49m\u001B[43m,\u001B[49m\u001B[43m \u001B[49m\u001B[43marg\u001B[49m\u001B[43m,\u001B[49m\u001B[43m \u001B[49m\u001B[43msuspend_type\u001B[49m\u001B[43m,\u001B[49m\u001B[43m \u001B[49m\u001B[43mfrom_this_thread\u001B[49m\u001B[43m)\u001B[49m\n",
      "\u001B[36mFile \u001B[39m\u001B[32mC:\\Program Files\\JetBrains\\PyCharm 2023.2.5\\plugins\\python\\helpers\\pydev\\pydevd.py:1175\u001B[39m, in \u001B[36mPyDB._do_wait_suspend\u001B[39m\u001B[34m(self, thread, frame, event, arg, suspend_type, from_this_thread)\u001B[39m\n\u001B[32m   1172\u001B[39m             \u001B[38;5;28mself\u001B[39m._call_mpl_hook()\n\u001B[32m   1174\u001B[39m         \u001B[38;5;28mself\u001B[39m.process_internal_commands()\n\u001B[32m-> \u001B[39m\u001B[32m1175\u001B[39m         \u001B[43mtime\u001B[49m\u001B[43m.\u001B[49m\u001B[43msleep\u001B[49m\u001B[43m(\u001B[49m\u001B[32;43m0.01\u001B[39;49m\u001B[43m)\u001B[49m\n\u001B[32m   1177\u001B[39m \u001B[38;5;28mself\u001B[39m.cancel_async_evaluation(get_current_thread_id(thread), \u001B[38;5;28mstr\u001B[39m(\u001B[38;5;28mid\u001B[39m(frame)))\n\u001B[32m   1179\u001B[39m \u001B[38;5;66;03m# process any stepping instructions\u001B[39;00m\n",
      "\u001B[31mKeyboardInterrupt\u001B[39m: "
     ]
    }
   ],
   "source": [
    "# Load JSON config\n",
    "with open(\"../tests/data/config_1.5.0.json\", \"r\", encoding=\"utf-8\") as f:\n",
    "    config = json.load(f)\n",
    "\n",
    "# Path to the folder with extracted .xsd files\n",
    "xsd_objects_path = output_path / \"xsd\" / \"objekty\"\n",
    "records = []\n",
    "element_types = config[\"element_types\"]\n",
    "\n",
    "for file_path in xsd_objects_path.glob(\"*.xsd\"):\n",
    "    try:\n",
    "        tree = etree.parse(str(file_path))\n",
    "        root = tree.getroot()\n",
    "        namespace = root.attrib.get(\"targetNamespace\", \"\")\n",
    "\n",
    "        data = {key: \"\" for key in element_types}\n",
    "        if config.get(\"filename\") is True:\n",
    "            data[\"filename\"] = file_path.name\n",
    "        if config.get(\"namespace\") is True:\n",
    "            data[\"namespace\"] = namespace\n",
    "        # data[\"zaznamy\"] = []\n",
    "        # data[\"OblastObjektuKI\"] = 0\n",
    "        # nsmap = root.nsmap\n",
    "        # print(nsmap)\n",
    "\n",
    "        # Get top-level element\n",
    "        if config.get(\"name\") or config.get(\"type\"):\n",
    "            top_level_elems = root.xpath('./*[local-name()=\"element\"]')\n",
    "            main_elem = top_level_elems[0]\n",
    "            if config.get(\"name\"):\n",
    "                data[\"name\"] = main_elem.get(\"name\", \"\")\n",
    "            if config.get(\"type\"):\n",
    "                data[\"type\"] = main_elem.get(\"type\", \"\")\n",
    "\n",
    "\n",
    "        # Find all complex types and iterate over elements inside\n",
    "        complex_types = root.xpath(\".//*[local-name()='complexType']\")\n",
    "        for complex_type in complex_types:\n",
    "            for element in complex_type.xpath(\".//*[local-name()='element']\"):\n",
    "                name = element.get(\"name\")\n",
    "                ref = element.get(\"ref\")\n",
    "                min_occurs = element.get(\"minOccurs\")\n",
    "                match = None\n",
    "                # Handle defined element types\n",
    "                if name in element_types:\n",
    "                    etype = element_types[name]\n",
    "                    match = \"name\"\n",
    "                elif ref in element_types:\n",
    "                    etype = element_types[ref]\n",
    "                    match = \"ref\"\n",
    "                    clean_ref = ref.split(\":\")[-1]\n",
    "                else:\n",
    "                    continue\n",
    "                    \n",
    "                \n",
    "                # Handle attributes\n",
    "                if \"attributes\" in etype:\n",
    "                    for attr_name, props in etype[\"attributes\"].items():\n",
    "                        for prop in props:\n",
    "                            if match == \"name\":\n",
    "                                val = element.xpath(f\".//*[local-name()='attribute' and @name='{attr_name}']/@{prop}\"\n",
    "                                )\n",
    "                            elif match == \"ref\":\n",
    "                                val = element.xpath(f\".//*[local-name()='attribute' and @ref='{attr_name}']/@{prop}\"\n",
    "                                )\n",
    "                            if val:\n",
    "                                data[f\"{attr_name}_{prop}\"] = val[0]\n",
    "                                \n",
    "                # Handle special case when asking directly for element properties\n",
    "                true_flags = [key for key, value in etype.items() if value is True]\n",
    "\n",
    "                for flag in true_flags:\n",
    "                    val = element.get(flag)\n",
    "                    if val is not None:\n",
    "                        if flag == \"minOccurs\":\n",
    "                            data[f\"{clean_ref}_{flag}\"] = val\n",
    "                            data[clean_ref] = 1\n",
    "                        else:\n",
    "                            if match == \"name\":\n",
    "                                data[name] = val\n",
    "                            elif match == \"ref\":\n",
    "                                data[ref] = val\n",
    "                    # else:\n",
    "                    #     # val = element.xpath(\".//*[local-name()='element' and @ref]\")\n",
    "                    #     # data[flag] = val[0].get('ref')\n",
    "                    #     ref_elem = element.xpath(\".//*[local-name()='element' and @ref]\")\n",
    "                    #     data[\"geom\"] = ref_elem[0].get(\"ref\") if ref_elem else \"\"\n",
    "                        \n",
    "                # # Handle special case for geometry\n",
    "                # if etype.get(\"geometry\") is True:\n",
    "                #     data[\"geom_minOccurs\"] = min_occurs\n",
    "                #     ref_elem = element.xpath(\".//*[local-name()='element' and @ref]\")\n",
    "                #     data[\"geometry\"] = [geom.get(\"ref\") for geom in ref_elem]\n",
    "                    \n",
    "        records.append(data)\n",
    "\n",
    "    except Exception as e:\n",
    "        print(f\"[Error] {file_path.name}: {e}\")\n",
    "        raise\n",
    "\n",
    "# Output DataFrame\n",
    "df_str1 = pd.DataFrame(records)\n",
    "output_csv_path = output_path.parent / \"detailed_1.5.0.beta3.csv\"\n",
    "output_csv_path.parent.mkdir(parents=True, exist_ok=True)\n",
    "df_str1.to_csv(output_csv_path, index=False)\n",
    "df_str1\n"
   ]
  }
 ],
 "metadata": {
  "kernelspec": {
   "display_name": "Python 3 (ipykernel)",
   "language": "python",
   "name": "python3"
  },
  "language_info": {
   "codemirror_mode": {
    "name": "ipython",
    "version": 3
   },
   "file_extension": ".py",
   "mimetype": "text/x-python",
   "name": "python",
   "nbconvert_exporter": "python",
   "pygments_lexer": "ipython3",
   "version": "3.12.10"
  }
 },
 "nbformat": 4,
 "nbformat_minor": 5
}
